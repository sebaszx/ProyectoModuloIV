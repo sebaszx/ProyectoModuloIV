{
 "cells": [
  {
   "cell_type": "code",
   "execution_count": 1,
   "metadata": {},
   "outputs": [],
   "source": [
    "import findspark\n",
    "findspark.init()\n",
    "\n",
    "import pyspark\n"
   ]
  },
  {
   "cell_type": "code",
   "execution_count": 2,
   "metadata": {},
   "outputs": [],
   "source": [
    "from pyspark.sql import SparkSession\n",
    "from pyspark.sql.types import StructField,StringType,IntegerType,StructType,DateType,FloatType\n",
    "from pyspark.sql import functions as F\n",
    "from pyspark.ml.stat import Correlation\n",
    "import seaborn as sns\n",
    "import matplotlib.pyplot as plt\n",
    "import numpy as np\n",
    "import pandas as pd"
   ]
  },
  {
   "cell_type": "code",
   "execution_count": 3,
   "metadata": {},
   "outputs": [],
   "source": [
    "spark = SparkSession \\\n",
    "    .builder \\\n",
    "    .appName(\"Proyecto\") \\\n",
    "    .config(\"spark.driver.extraClassPath\", \"postgresql-42.2.14.jar\") \\\n",
    "    .config(\"spark.executor.extraClassPath\", \"postgresql-42.2.14.jar\") \\\n",
    "    .getOrCreate()"
   ]
  },
  {
   "cell_type": "markdown",
   "metadata": {},
   "source": [
    "Se leen los datos de los accidentes"
   ]
  },
  {
   "cell_type": "code",
   "execution_count": 4,
   "metadata": {},
   "outputs": [
    {
     "name": "stdout",
     "output_type": "stream",
     "text": [
      "+----------+--------------------+\n",
      "|Start_Time|col_with_date_format|\n",
      "+----------+--------------------+\n",
      "|3/10/2021 |null                |\n",
      "|7/30/2021 |null                |\n",
      "|10/15/2021|null                |\n",
      "|12/21/2021|null                |\n",
      "|12/9/2021 |null                |\n",
      "|9/4/2021  |null                |\n",
      "|12/30/2021|null                |\n",
      "|9/30/2021 |null                |\n",
      "|4/1/2021  |null                |\n",
      "|12/22/2021|null                |\n",
      "+----------+--------------------+\n",
      "only showing top 10 rows\n",
      "\n"
     ]
    }
   ],
   "source": [
    "accidentsUSAFull = spark \\\n",
    "    .read \\\n",
    "    .format(\"csv\") \\\n",
    "    .option(\"path\", \"Datos/US_Accidents_Dec21_updated_solo_2021.csv\") \\\n",
    "    .option(\"header\", True) \\\n",
    "    .schema(StructType([\n",
    "                StructField(\"ID\", StringType()),\n",
    "                StructField(\"Severity\", IntegerType()),\n",
    "                StructField(\"Start_Time\", StringType()),\n",
    "                StructField(\"End_Time\", StringType()),\n",
    "                StructField(\"Start_Lat\", FloatType()),\n",
    "                StructField(\"Start_Lng\", FloatType()),\n",
    "                StructField(\"End_Lat\", FloatType()),\n",
    "                StructField(\"End_Lng\", FloatType()),\n",
    "                StructField(\"Distance(mi)\", FloatType()),\n",
    "                StructField(\"Description\", StringType()),\n",
    "                StructField(\"Number\", IntegerType()),\n",
    "                StructField(\"Street\", StringType()),\n",
    "                StructField(\"Side\", StringType()),\n",
    "                StructField(\"City\", StringType()),\n",
    "                StructField(\"County\", StringType()),\n",
    "                StructField(\"State\", StringType()),\n",
    "                StructField(\"Zipcode\", StringType()),\n",
    "                StructField(\"Country\", StringType()),\n",
    "                StructField(\"Timezone\", StringType()),\n",
    "                StructField(\"Airport_Code\", StringType()),\n",
    "                StructField(\"Weather_Timestamp\", StringType()),\n",
    "                StructField(\"Temperature(F)\", FloatType()),\n",
    "                StructField(\"Wind_Chill(F)\", FloatType()),\n",
    "                StructField(\"Humidity(%)\", FloatType()),\n",
    "                StructField(\"Pressure(in)\", FloatType()),\n",
    "                StructField(\"Visibility(mi)\", FloatType()),\n",
    "                StructField(\"Wind_Direction\", StringType()),\n",
    "                StructField(\"Wind_Speed(mph)\", FloatType()),\n",
    "                StructField(\"Precipitation(in)\", FloatType()),\n",
    "                StructField(\"Weather_Condition\", StringType())\n",
    "                ])) \\\n",
    "    .load()\n",
    "#accidentsUSAFull.select(to_timestamp(accidentsUSAFull.Start_Time, 'MM-dd-YYYY HH:mm:ss').alias('dt')).show(1)\n",
    "#accidentsUSAFull.printSchema()\n",
    "accidentsUSAFull= accidentsUSAFull.withColumn('col_with_date_format',F.to_date(accidentsUSAFull.Start_Time))\n",
    "#below is the result\n",
    "accidentsUSAFull.select('Start_Time','col_with_date_format').show(10,False)\n",
    "#accidentsUSAFull.select(to_timestamp(accidentsUSAFull.Start_Time, 'MM-dd-yyyy HH:mm').alias('dt')).collect()\n",
    "\n"
   ]
  },
  {
   "cell_type": "markdown",
   "metadata": {},
   "source": [
    "Filtramos un poco el dataframe para solo obtener las columnas de nuestro interes"
   ]
  },
  {
   "cell_type": "code",
   "execution_count": 5,
   "metadata": {},
   "outputs": [],
   "source": [
    "accidentsUSA=accidentsUSAFull.select(accidentsUSAFull[\"Severity\"],\n",
    "accidentsUSAFull[\"Start_Time\"],accidentsUSAFull[\"End_Time\"],accidentsUSAFull[\"City\"],\n",
    "accidentsUSAFull[\"County\"],accidentsUSAFull[\"State\"],accidentsUSAFull[\"Temperature(F)\"],\n",
    "accidentsUSAFull[\"Wind_Chill(F)\"],\n",
    "accidentsUSAFull[\"Humidity(%)\"],accidentsUSAFull[\"Pressure(in)\"],accidentsUSAFull[\"Visibility(mi)\"],\n",
    "accidentsUSAFull[\"Zipcode\"])"
   ]
  },
  {
   "cell_type": "markdown",
   "metadata": {},
   "source": [
    "Hacemos un describe de los datos"
   ]
  },
  {
   "cell_type": "code",
   "execution_count": 6,
   "metadata": {},
   "outputs": [
    {
     "name": "stdout",
     "output_type": "stream",
     "text": [
      "+-------+-------------------+----------+---------+----------+---------+------+-----------------+------------------+------------------+------------------+-----------------+------------------+\n",
      "|summary|           Severity|Start_Time| End_Time|      City|   County| State|   Temperature(F)|     Wind_Chill(F)|       Humidity(%)|      Pressure(in)|   Visibility(mi)|           Zipcode|\n",
      "+-------+-------------------+----------+---------+----------+---------+------+-----------------+------------------+------------------+------------------+-----------------+------------------+\n",
      "|  count|             665578|    665578|   665578|    665546|   665578|665578|           652030|            647511|            651439|            653755|           651952|            665402|\n",
      "|   mean| 2.0362361736716057|      null|     null|      null|     null|  null|66.33849838197395| 65.62951054113367| 63.62939891532438| 29.38612578437885|9.154023118264934| 55796.87925271673|\n",
      "| stddev|0.26675718167377094|      null|     null|      null|     null|  null|17.03535972377645|18.388040005089195|22.506527396927126|1.0715007167885062|2.414551797508426|31501.806972957616|\n",
      "|    min|                  2| 1/13/2021|10/1/2021|Aaronsburg|Abbeville|    AL|            -23.0|             -42.0|               1.0|             16.72|              0.0|        01436-1245|\n",
      "|    max|                  4|  9/9/2021| 9/9/2021|   Zwingle|     Yuma|    WY|            196.0|             196.0|             100.0|             58.16|            100.0|        99357-9655|\n",
      "+-------+-------------------+----------+---------+----------+---------+------+-----------------+------------------+------------------+------------------+-----------------+------------------+\n",
      "\n"
     ]
    }
   ],
   "source": [
    "accidentsUSA.describe().show()"
   ]
  },
  {
   "cell_type": "markdown",
   "metadata": {},
   "source": [
    "Contamos los valores nullos"
   ]
  },
  {
   "cell_type": "code",
   "execution_count": 7,
   "metadata": {},
   "outputs": [
    {
     "name": "stdout",
     "output_type": "stream",
     "text": [
      "+--------+----------+--------+----+------+-----+--------------+-------------+-----------+------------+--------------+-------+\n",
      "|Severity|Start_Time|End_Time|City|County|State|Temperature(F)|Wind_Chill(F)|Humidity(%)|Pressure(in)|Visibility(mi)|Zipcode|\n",
      "+--------+----------+--------+----+------+-----+--------------+-------------+-----------+------------+--------------+-------+\n",
      "|       0|         0|       0|  32|     0|    0|         13548|        18067|      14139|       11823|         13626|    176|\n",
      "+--------+----------+--------+----+------+-----+--------------+-------------+-----------+------------+--------------+-------+\n",
      "\n"
     ]
    }
   ],
   "source": [
    "from pyspark.sql.functions import col,isnan, when, count\n",
    "accidentsUSA.select([count(when(isnan(c) | col(c).isNull(), c)).alias(c) for c in accidentsUSA.columns]\n",
    "   ).show()"
   ]
  },
  {
   "cell_type": "markdown",
   "metadata": {},
   "source": [
    "Se limpia el dataset"
   ]
  },
  {
   "cell_type": "code",
   "execution_count": 8,
   "metadata": {},
   "outputs": [],
   "source": [
    "\n",
    "accidentsUSA=accidentsUSA.na.drop()\n"
   ]
  },
  {
   "cell_type": "code",
   "execution_count": 9,
   "metadata": {},
   "outputs": [
    {
     "name": "stdout",
     "output_type": "stream",
     "text": [
      "+--------+----------+--------+----+------+-----+--------------+-------------+-----------+------------+--------------+-------+\n",
      "|Severity|Start_Time|End_Time|City|County|State|Temperature(F)|Wind_Chill(F)|Humidity(%)|Pressure(in)|Visibility(mi)|Zipcode|\n",
      "+--------+----------+--------+----+------+-----+--------------+-------------+-----------+------------+--------------+-------+\n",
      "|       0|         0|       0|   0|     0|    0|             0|            0|          0|           0|             0|      0|\n",
      "+--------+----------+--------+----+------+-----+--------------+-------------+-----------+------------+--------------+-------+\n",
      "\n"
     ]
    }
   ],
   "source": [
    "from pyspark.sql.functions import col,isnan, when, count\n",
    "accidentsUSA.select([count(when(isnan(c) | col(c).isNull(), c)).alias(c) for c in accidentsUSA.columns]\n",
    "   ).show()"
   ]
  },
  {
   "cell_type": "markdown",
   "metadata": {},
   "source": [
    "Se lee el archivo del clima"
   ]
  },
  {
   "cell_type": "code",
   "execution_count": 10,
   "metadata": {},
   "outputs": [
    {
     "name": "stdout",
     "output_type": "stream",
     "text": [
      "+-------+-----+--------+--------------+------------+-----------------+-----------+-----------+-----------+-----------+--------+--------+-----+-------+\n",
      "|EventId| Type|Severity|StartTime(UTC)|EndTime(UTC)|Precipitation(in)|   TimeZone|AirportCode|LocationLat|LocationLng|    City|  County|State|ZipCode|\n",
      "+-------+-----+--------+--------------+------------+-----------------+-----------+-----------+-----------+-----------+--------+--------+-----+-------+\n",
      "| W-1973| Snow|   Light|      1/6/2021|    1/6/2021|              0.0|US/Mountain|       K04V|    38.0972|  -106.1689|Saguache|Saguache|   CO|  81149|\n",
      "| W-1974| Snow|   Light|     1/10/2021|   1/10/2021|              0.0|US/Mountain|       K04V|    38.0972|  -106.1689|Saguache|Saguache|   CO|  81149|\n",
      "| W-1975|Storm|  Severe|     1/14/2021|   1/14/2021|              0.0|US/Mountain|       K04V|    38.0972|  -106.1689|Saguache|Saguache|   CO|  81149|\n",
      "| W-1976|Storm|  Severe|     1/14/2021|   1/14/2021|              0.0|US/Mountain|       K04V|    38.0972|  -106.1689|Saguache|Saguache|   CO|  81149|\n",
      "| W-1977|Storm|  Severe|     1/14/2021|   1/14/2021|              0.0|US/Mountain|       K04V|    38.0972|  -106.1689|Saguache|Saguache|   CO|  81149|\n",
      "| W-1978| Snow|   Light|     1/19/2021|   1/19/2021|              0.0|US/Mountain|       K04V|    38.0972|  -106.1689|Saguache|Saguache|   CO|  81149|\n",
      "| W-1979| Snow|   Light|     1/19/2021|   1/19/2021|             0.03|US/Mountain|       K04V|    38.0972|  -106.1689|Saguache|Saguache|   CO|  81149|\n",
      "| W-1980| Snow|   Light|     1/20/2021|   1/20/2021|              0.0|US/Mountain|       K04V|    38.0972|  -106.1689|Saguache|Saguache|   CO|  81149|\n",
      "| W-1981| Snow|   Light|     1/23/2021|   1/23/2021|              0.0|US/Mountain|       K04V|    38.0972|  -106.1689|Saguache|Saguache|   CO|  81149|\n",
      "| W-1982| Snow|   Light|     1/23/2021|   1/23/2021|              0.0|US/Mountain|       K04V|    38.0972|  -106.1689|Saguache|Saguache|   CO|  81149|\n",
      "| W-1983|  Fog|Moderate|     1/24/2021|   1/24/2021|              0.0|US/Mountain|       K04V|    38.0972|  -106.1689|Saguache|Saguache|   CO|  81149|\n",
      "| W-1984| Snow|   Light|     1/24/2021|   1/24/2021|              0.0|US/Mountain|       K04V|    38.0972|  -106.1689|Saguache|Saguache|   CO|  81149|\n",
      "| W-1985| Snow|   Light|     1/24/2021|   1/24/2021|              0.0|US/Mountain|       K04V|    38.0972|  -106.1689|Saguache|Saguache|   CO|  81149|\n",
      "| W-1986| Snow|   Light|     1/25/2021|   1/25/2021|              0.0|US/Mountain|       K04V|    38.0972|  -106.1689|Saguache|Saguache|   CO|  81149|\n",
      "| W-1987| Snow|   Light|     1/25/2021|   1/25/2021|              0.0|US/Mountain|       K04V|    38.0972|  -106.1689|Saguache|Saguache|   CO|  81149|\n",
      "| W-1988| Snow|   Light|     1/26/2021|   1/26/2021|             0.04|US/Mountain|       K04V|    38.0972|  -106.1689|Saguache|Saguache|   CO|  81149|\n",
      "| W-1989| Snow|   Light|     1/26/2021|   1/26/2021|             0.03|US/Mountain|       K04V|    38.0972|  -106.1689|Saguache|Saguache|   CO|  81149|\n",
      "| W-1990| Snow|   Light|     1/26/2021|   1/26/2021|             0.03|US/Mountain|       K04V|    38.0972|  -106.1689|Saguache|Saguache|   CO|  81149|\n",
      "| W-1991| Snow|   Light|     1/30/2021|   1/30/2021|              0.0|US/Mountain|       K04V|    38.0972|  -106.1689|Saguache|Saguache|   CO|  81149|\n",
      "| W-1992|Storm|  Severe|     1/30/2021|   1/30/2021|              0.0|US/Mountain|       K04V|    38.0972|  -106.1689|Saguache|Saguache|   CO|  81149|\n",
      "+-------+-----+--------+--------------+------------+-----------------+-----------+-----------+-----------+-----------+--------+--------+-----+-------+\n",
      "only showing top 20 rows\n",
      "\n"
     ]
    }
   ],
   "source": [
    "WeatherFull = spark \\\n",
    "    .read \\\n",
    "    .format(\"csv\") \\\n",
    "    .option(\"path\", \"Datos/WeatherEvents_Jan2016-Dec2021_solo_2021.csv\") \\\n",
    "    .option(\"header\", True) \\\n",
    "    .schema(StructType([\n",
    "                StructField(\"EventId\", StringType()),\n",
    "                StructField(\"Type\", StringType()),\n",
    "                StructField(\"Severity\", StringType()),\n",
    "                StructField(\"StartTime(UTC)\", StringType()),\n",
    "                StructField(\"EndTime(UTC)\", StringType()),\n",
    "                StructField(\"Precipitation(in)\", FloatType()),\n",
    "                StructField(\"TimeZone\", StringType()),\n",
    "                StructField(\"AirportCode\", StringType()),\n",
    "                StructField(\"LocationLat\", FloatType()),\n",
    "                 StructField(\"LocationLng\", FloatType()),\n",
    "                StructField(\"City\", StringType()),\n",
    "                StructField(\"County\", StringType()),\n",
    "                StructField(\"State\", StringType()),\n",
    "                StructField(\"ZipCode\", StringType()),\n",
    "               \n",
    "                ])) \\\n",
    "    .load()\n",
    "WeatherFull.show()"
   ]
  },
  {
   "cell_type": "markdown",
   "metadata": {},
   "source": [
    "Simplificamos el dataset con lo que necesitamos"
   ]
  },
  {
   "cell_type": "code",
   "execution_count": 11,
   "metadata": {},
   "outputs": [],
   "source": [
    "weatherUSA=WeatherFull.select(WeatherFull[\"Type\"],\n",
    "WeatherFull[\"Severity\"],WeatherFull[\"StartTime(UTC)\"],WeatherFull[\"EndTime(UTC)\"],\n",
    "WeatherFull[\"Precipitation(in)\"],WeatherFull[\"State\"],WeatherFull[\"County\"],\n",
    "WeatherFull[\"City\"],\n",
    "WeatherFull[\"Zipcode\"])"
   ]
  },
  {
   "cell_type": "code",
   "execution_count": 12,
   "metadata": {},
   "outputs": [
    {
     "name": "stdout",
     "output_type": "stream",
     "text": [
      "+-------+------+--------+--------------+------------+-------------------+------+-------------+--------+------------------+\n",
      "|summary|  Type|Severity|StartTime(UTC)|EndTime(UTC)|  Precipitation(in)| State|       County|    City|           Zipcode|\n",
      "+-------+------+--------+--------------+------------+-------------------+------+-------------+--------+------------------+\n",
      "|  count|168132|  168132|        168132|      168132|             168132|168132|       168132|  167276|            166132|\n",
      "|   mean|  null|    null|          null|        null|0.08292591528754716|  null|         null|    null| 52135.55378253437|\n",
      "| stddev|  null|    null|          null|        null| 0.5147711528937678|  null|         null|    null|26458.947353143405|\n",
      "|    min|  Cold|   Heavy|      1/1/2021|    1/1/2021|                0.0|    AL|      Alamosa|Abingdon|             10024|\n",
      "|    max| Storm|     UNK|      9/9/2021|    9/9/2021|             105.58|    WY|Zapata County|  Zapata|             99362|\n",
      "+-------+------+--------+--------------+------------+-------------------+------+-------------+--------+------------------+\n",
      "\n"
     ]
    }
   ],
   "source": [
    "weatherUSA.describe().show()"
   ]
  },
  {
   "cell_type": "code",
   "execution_count": 13,
   "metadata": {},
   "outputs": [
    {
     "name": "stdout",
     "output_type": "stream",
     "text": [
      "+----+--------+--------------+------------+-----------------+-----+------+----+-------+\n",
      "|Type|Severity|StartTime(UTC)|EndTime(UTC)|Precipitation(in)|State|County|City|Zipcode|\n",
      "+----+--------+--------------+------------+-----------------+-----+------+----+-------+\n",
      "|   0|       0|             0|           0|                0|    0|     0| 856|   2000|\n",
      "+----+--------+--------------+------------+-----------------+-----+------+----+-------+\n",
      "\n"
     ]
    }
   ],
   "source": [
    "weatherUSA.select([count(when(isnan(c) | col(c).isNull(), c)).alias(c) for c in weatherUSA.columns]\n",
    "   ).show()"
   ]
  },
  {
   "cell_type": "markdown",
   "metadata": {},
   "source": [
    "Se limpia el dataset"
   ]
  },
  {
   "cell_type": "code",
   "execution_count": 14,
   "metadata": {},
   "outputs": [],
   "source": [
    "weatherUSA=weatherUSA.na.drop()"
   ]
  },
  {
   "cell_type": "code",
   "execution_count": 15,
   "metadata": {},
   "outputs": [
    {
     "name": "stdout",
     "output_type": "stream",
     "text": [
      "+----+--------+--------------+------------+-----------------+-----+------+----+-------+\n",
      "|Type|Severity|StartTime(UTC)|EndTime(UTC)|Precipitation(in)|State|County|City|Zipcode|\n",
      "+----+--------+--------------+------------+-----------------+-----+------+----+-------+\n",
      "|   0|       0|             0|           0|                0|    0|     0|   0|      0|\n",
      "+----+--------+--------------+------------+-----------------+-----+------+----+-------+\n",
      "\n"
     ]
    }
   ],
   "source": [
    "weatherUSA.select([count(when(isnan(c) | col(c).isNull(), c)).alias(c) for c in weatherUSA.columns]\n",
    "   ).show()"
   ]
  },
  {
   "cell_type": "code",
   "execution_count": 21,
   "metadata": {},
   "outputs": [
    {
     "name": "stdout",
     "output_type": "stream",
     "text": [
      "+-------------+-----+\n",
      "|         Type|count|\n",
      "+-------------+-----+\n",
      "|         Cold| 3232|\n",
      "|          Fog|45945|\n",
      "|        Storm| 1430|\n",
      "|Precipitation| 4306|\n",
      "|         Hail|   16|\n",
      "|         Snow|22926|\n",
      "|         Rain|88277|\n",
      "+-------------+-----+\n",
      "\n"
     ]
    }
   ],
   "source": [
    "weatherUSA.groupBy(\"Type\").count().show()"
   ]
  },
  {
   "cell_type": "code",
   "execution_count": null,
   "metadata": {},
   "outputs": [],
   "source": [
    "weatherUSA = weatherUSA.withColumn(\"Type\", when(weatherUSA.Type == \"Cold\",\"Others\") \\\n",
    "      .when(weatherUSA.Type == \"Storm\",\"Others\") \\\n",
    "      .when(weatherUSA.Type == \"Hail\",\"Others\") \\\n",
    "        .when(weatherUSA.Type == \"Precipitation\",\"Others\") \\\n",
    "      .otherwise(weatherUSA.Type))\n",
    "weatherUSA.show()\n"
   ]
  },
  {
   "cell_type": "markdown",
   "metadata": {},
   "source": [
    "EDA"
   ]
  },
  {
   "cell_type": "code",
   "execution_count": 17,
   "metadata": {},
   "outputs": [
    {
     "data": {
      "text/plain": [
       "<AxesSubplot:>"
      ]
     },
     "execution_count": 17,
     "metadata": {},
     "output_type": "execute_result"
    },
    {
     "data": {
      "image/png": "[encoded data removed]",
      "text/plain": [
       "<Figure size 432x288 with 1 Axes>"
      ]
     },
     "metadata": {
      "needs_background": "light"
     },
     "output_type": "display_data"
    }
   ],
   "source": [
    "x=accidentsUSA.toPandas()[\"Severity\"].values.tolist()\n",
    "\n",
    "pd.Series(x).value_counts(sort=False).plot(kind='bar')\n",
    "\n"
   ]
  },
  {
   "cell_type": "code",
   "execution_count": 18,
   "metadata": {},
   "outputs": [
    {
     "name": "stdout",
     "output_type": "stream",
     "text": [
      "644494\n"
     ]
    },
    {
     "data": {
      "image/png": "[encoded data removed]",
      "text/plain": [
       "<Figure size 432x288 with 1 Axes>"
      ]
     },
     "metadata": {
      "needs_background": "light"
     },
     "output_type": "display_data"
    }
   ],
   "source": [
    "\n",
    "y=accidentsUSA.toPandas()[\"Visibility(mi)\"].values.tolist()\n",
    "x = np.arange(0, len(y))\n",
    "print(len(y))\n",
    "plt.title(\"Visibilidad en millas\")\n",
    "\n",
    "plt.plot(x, y, color =\"green\")\n",
    "plt.show()"
   ]
  },
  {
   "cell_type": "code",
   "execution_count": 19,
   "metadata": {},
   "outputs": [
    {
     "data": {
      "text/plain": [
       "<AxesSubplot:>"
      ]
     },
     "execution_count": 19,
     "metadata": {},
     "output_type": "execute_result"
    },
    {
     "data": {
      "image/png": "[encoded data removed]",
      "text/plain": [
       "<Figure size 432x288 with 1 Axes>"
      ]
     },
     "metadata": {
      "needs_background": "light"
     },
     "output_type": "display_data"
    }
   ],
   "source": [
    "x=weatherUSA.toPandas()[\"Type\"].values.tolist()\n",
    "\n",
    "pd.Series(x).value_counts(sort=False).plot(kind='bar')"
   ]
  },
  {
   "cell_type": "code",
   "execution_count": 20,
   "metadata": {},
   "outputs": [
    {
     "data": {
      "text/plain": [
       "<AxesSubplot:>"
      ]
     },
     "execution_count": 20,
     "metadata": {},
     "output_type": "execute_result"
    },
    {
     "data": {
      "image/png": "[encoded data removed]",
      "text/plain": [
       "<Figure size 432x288 with 1 Axes>"
      ]
     },
     "metadata": {
      "needs_background": "light"
     },
     "output_type": "display_data"
    }
   ],
   "source": [
    "x=weatherUSA.toPandas()[\"Severity\"].values.tolist()\n",
    "\n",
    "pd.Series(x).value_counts(sort=False).plot(kind='bar')"
   ]
  },
  {
   "cell_type": "markdown",
   "metadata": {},
   "source": [
    "Union de dataframes\n"
   ]
  },
  {
   "cell_type": "code",
   "execution_count": null,
   "metadata": {},
   "outputs": [],
   "source": []
  }
 ],
 "metadata": {
  "kernelspec": {
   "display_name": "Python 3.8.8 ('base')",
   "language": "python",
   "name": "python3"
  },
  "language_info": {
   "codemirror_mode": {
    "name": "ipython",
    "version": 3
   },
   "file_extension": ".py",
   "mimetype": "text/x-python",
   "name": "python",
   "nbconvert_exporter": "python",
   "pygments_lexer": "ipython3",
   "version": "3.8.8"
  },
  "orig_nbformat": 4,
  "vscode": {
   "interpreter": {
    "hash": "6f5583cf1d9466b5c27e75c89cc6b383bed5736d6b16c51c8074d8690011a952"
   }
  }
 },
 "nbformat": 4,
 "nbformat_minor": 2
}
