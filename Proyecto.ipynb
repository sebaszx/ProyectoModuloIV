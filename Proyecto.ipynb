{
 "cells": [
  {
   "cell_type": "code",
   "execution_count": 44,
   "metadata": {},
   "outputs": [],
   "source": [
    "import findspark\n",
    "findspark.init()\n",
    "\n",
    "import pyspark\n"
   ]
  },
  {
   "cell_type": "code",
   "execution_count": 45,
   "metadata": {},
   "outputs": [],
   "source": [
    "from pyspark.sql import SparkSession\n",
    "from pyspark.sql.types import StructField,StringType,IntegerType,StructType,DateType,FloatType\n",
    "from pyspark.sql import functions as F\n",
    "from pyspark.sql.window import Window\n",
    "from pyspark.ml.stat import Correlation\n",
    "import seaborn as sns\n",
    "import matplotlib.pyplot as plt\n",
    "import numpy as np\n",
    "import pandas as pd\n",
    "from pyspark.ml.feature import StringIndexer,VectorAssembler\n",
    "from pyspark.ml.feature import StandardScaler\n",
    "from pyspark.ml.classification import RandomForestClassifier,DecisionTreeClassifier\n",
    "from pyspark.ml.evaluation import MulticlassClassificationEvaluator\n",
    "from pyspark.ml.tuning import ParamGridBuilder, CrossValidator\n",
    "from pyspark.sql.functions import col,isnan, when, count"
   ]
  },
  {
   "cell_type": "code",
   "execution_count": 46,
   "metadata": {},
   "outputs": [],
   "source": [
    "spark = SparkSession \\\n",
    "    .builder \\\n",
    "    .appName(\"Proyecto\") \\\n",
    "    .config(\"spark.driver.extraClassPath\", \"postgresql-42.2.14.jar\") \\\n",
    "    .config(\"spark.executor.extraClassPath\", \"postgresql-42.2.14.jar\") \\\n",
    "    .getOrCreate()"
   ]
  },
  {
   "cell_type": "code",
   "execution_count": 47,
   "metadata": {},
   "outputs": [],
   "source": [
    "def EscribirDatosEnTabla(dataframe,NombreTabla):\n",
    "    dataframe \\\n",
    "    .write \\\n",
    "    .format(\"jdbc\") \\\n",
    "    .mode('overwrite') \\\n",
    "    .option(\"url\", \"jdbc:postgresql://host.docker.internal:5433/postgres\") \\\n",
    "    .option(\"user\", \"postgres\") \\\n",
    "    .option(\"password\", \"testPassword\") \\\n",
    "    .option(\"dbtable\", NombreTabla) \\\n",
    "    .save()\n",
    "\n",
    "def LeerDatosEnBD(NombreTabla):\n",
    "    return spark \\\n",
    "    .read \\\n",
    "    .format(\"jdbc\") \\\n",
    "    .option(\"url\", \"jdbc:postgresql://host.docker.internal:5433/postgres\") \\\n",
    "    .option(\"user\", \"postgres\") \\\n",
    "    .option(\"password\", \"testPassword\") \\\n",
    "    .option(\"dbtable\", NombreTabla) \\\n",
    "    .load()"
   ]
  },
  {
   "cell_type": "markdown",
   "metadata": {},
   "source": [
    "Se leen los datos de los accidentes"
   ]
  },
  {
   "cell_type": "code",
   "execution_count": 48,
   "metadata": {},
   "outputs": [
    {
     "name": "stdout",
     "output_type": "stream",
     "text": [
      "665578\n"
     ]
    }
   ],
   "source": [
    "def leerDatosAccidents():\n",
    "    return spark \\\n",
    "        .read \\\n",
    "        .format(\"csv\") \\\n",
    "        .option(\"path\", \"Datos/US_Accidents_Dec21_updated_solo_2021.csv\") \\\n",
    "        .option(\"header\", True) \\\n",
    "        .schema(StructType([\n",
    "                    StructField(\"ID\", StringType()),\n",
    "                    StructField(\"Severity\", IntegerType()),\n",
    "                    StructField(\"Start_Time\", StringType()),\n",
    "                    StructField(\"End_Time\", StringType()),\n",
    "                    StructField(\"Start_Lat\", FloatType()),\n",
    "                    StructField(\"Start_Lng\", FloatType()),\n",
    "                    StructField(\"End_Lat\", FloatType()),\n",
    "                    StructField(\"End_Lng\", FloatType()),\n",
    "                    StructField(\"Distance(mi)\", FloatType()),\n",
    "                    StructField(\"Description\", StringType()),\n",
    "                    StructField(\"Number\", IntegerType()),\n",
    "                    StructField(\"Street\", StringType()),\n",
    "                    StructField(\"Side\", StringType()),\n",
    "                    StructField(\"City\", StringType()),\n",
    "                    StructField(\"County\", StringType()),\n",
    "                    StructField(\"State\", StringType()),\n",
    "                    StructField(\"Zipcode\", StringType()),\n",
    "                    StructField(\"Country\", StringType()),\n",
    "                    StructField(\"Timezone\", StringType()),\n",
    "                    StructField(\"Airport_Code\", StringType()),\n",
    "                    StructField(\"Weather_Timestamp\", StringType()),\n",
    "                    StructField(\"Temperature(F)\", FloatType()),\n",
    "                    StructField(\"Wind_Chill(F)\", FloatType()),\n",
    "                    StructField(\"Humidity(%)\", FloatType()),\n",
    "                    StructField(\"Pressure(in)\", FloatType()),\n",
    "                    StructField(\"Visibility(mi)\", FloatType()),\n",
    "                    StructField(\"Wind_Direction\", StringType()),\n",
    "                    StructField(\"Wind_Speed(mph)\", FloatType()),\n",
    "                    StructField(\"Precipitation(in)\", FloatType()),\n",
    "                    StructField(\"Weather_Condition\", StringType())\n",
    "                    ])) \\\n",
    "        .load()\n",
    "accidentsUSAFull=leerDatosAccidents()\n",
    "print(accidentsUSAFull.count())\n",
    "#accidentsUSAFull.select(to_timestamp(accidentsUSAFull.Start_Time, 'MM-dd-YYYY HH:mm:ss').alias('dt')).show(1)\n",
    "#accidentsUSAFull.printSchema()\n",
    "accidentsUSAFull= accidentsUSAFull.withColumn('col_with_date_format',F.to_date(accidentsUSAFull.Start_Time))"
   ]
  },
  {
   "cell_type": "markdown",
   "metadata": {},
   "source": [
    "Filtramos un poco el dataframe para solo obtener las columnas de nuestro interes"
   ]
  },
  {
   "cell_type": "code",
   "execution_count": 49,
   "metadata": {},
   "outputs": [],
   "source": [
    "accidentsUSA=accidentsUSAFull.select(accidentsUSAFull[\"Severity\"],\n",
    "accidentsUSAFull[\"Start_Time\"],accidentsUSAFull[\"End_Time\"],accidentsUSAFull[\"City\"],\n",
    "accidentsUSAFull[\"County\"],accidentsUSAFull[\"State\"],accidentsUSAFull[\"Temperature(F)\"],\n",
    "accidentsUSAFull[\"Wind_Chill(F)\"],\n",
    "accidentsUSAFull[\"Humidity(%)\"],accidentsUSAFull[\"Pressure(in)\"],accidentsUSAFull[\"Visibility(mi)\"],\n",
    "accidentsUSAFull[\"Zipcode\"])\n",
    "accidentsUSA=accidentsUSA.withColumnRenamed('Severity', 'Severity_accident')"
   ]
  },
  {
   "cell_type": "markdown",
   "metadata": {},
   "source": [
    "Hacemos un describe de los datos"
   ]
  },
  {
   "cell_type": "code",
   "execution_count": 50,
   "metadata": {},
   "outputs": [
    {
     "name": "stdout",
     "output_type": "stream",
     "text": [
      "+-------+-------------------+----------+---------+----------+---------+------+-----------------+------------------+------------------+------------------+-----------------+------------------+\n",
      "|summary|  Severity_accident|Start_Time| End_Time|      City|   County| State|   Temperature(F)|     Wind_Chill(F)|       Humidity(%)|      Pressure(in)|   Visibility(mi)|           Zipcode|\n",
      "+-------+-------------------+----------+---------+----------+---------+------+-----------------+------------------+------------------+------------------+-----------------+------------------+\n",
      "|  count|             665578|    665578|   665578|    665546|   665578|665578|           652030|            647511|            651439|            653755|           651952|            665402|\n",
      "|   mean| 2.0362361736716057|      null|     null|      null|     null|  null|66.33849838197395| 65.62951054113367| 63.62939891532438| 29.38612578437885|9.154023118264934| 55796.87925271673|\n",
      "| stddev|0.26675718167377094|      null|     null|      null|     null|  null|17.03535972377645|18.388040005089195|22.506527396927126|1.0715007167885062|2.414551797508426|31501.806972957616|\n",
      "|    min|                  2| 1/13/2021|10/1/2021|Aaronsburg|Abbeville|    AL|            -23.0|             -42.0|               1.0|             16.72|              0.0|        01436-1245|\n",
      "|    max|                  4|  9/9/2021| 9/9/2021|   Zwingle|     Yuma|    WY|            196.0|             196.0|             100.0|             58.16|            100.0|        99357-9655|\n",
      "+-------+-------------------+----------+---------+----------+---------+------+-----------------+------------------+------------------+------------------+-----------------+------------------+\n",
      "\n"
     ]
    }
   ],
   "source": [
    "accidentsUSA.describe().show()"
   ]
  },
  {
   "cell_type": "markdown",
   "metadata": {},
   "source": [
    "Contamos los valores nullos"
   ]
  },
  {
   "cell_type": "code",
   "execution_count": 51,
   "metadata": {},
   "outputs": [
    {
     "name": "stdout",
     "output_type": "stream",
     "text": [
      "+-----------------+----------+--------+----+------+-----+--------------+-------------+-----------+------------+--------------+-------+\n",
      "|Severity_accident|Start_Time|End_Time|City|County|State|Temperature(F)|Wind_Chill(F)|Humidity(%)|Pressure(in)|Visibility(mi)|Zipcode|\n",
      "+-----------------+----------+--------+----+------+-----+--------------+-------------+-----------+------------+--------------+-------+\n",
      "|                0|         0|       0|  32|     0|    0|         13548|        18067|      14139|       11823|         13626|    176|\n",
      "+-----------------+----------+--------+----+------+-----+--------------+-------------+-----------+------------+--------------+-------+\n",
      "\n"
     ]
    }
   ],
   "source": [
    "def ContarNulos(dataframe):\n",
    "    dataframe.select([count(when(isnan(c) | col(c).isNull(), c)).alias(c) for c in dataframe.columns]\n",
    "    ).show()\n",
    "\n",
    "    \n",
    "ContarNulos(accidentsUSA)\n",
    "\"\"\"Se limpia el dataset\"\"\"\n",
    "def EliminarNulos(DataFrame):\n",
    "    DataFrame=DataFrame.na.drop()\n",
    "    return DataFrame"
   ]
  },
  {
   "cell_type": "code",
   "execution_count": 52,
   "metadata": {},
   "outputs": [
    {
     "name": "stdout",
     "output_type": "stream",
     "text": [
      "+-----------------+----------+--------+----+------+-----+--------------+-------------+-----------+------------+--------------+-------+\n",
      "|Severity_accident|Start_Time|End_Time|City|County|State|Temperature(F)|Wind_Chill(F)|Humidity(%)|Pressure(in)|Visibility(mi)|Zipcode|\n",
      "+-----------------+----------+--------+----+------+-----+--------------+-------------+-----------+------------+--------------+-------+\n",
      "|                0|         0|       0|  32|     0|    0|         13548|        18067|      14139|       11823|         13626|    176|\n",
      "+-----------------+----------+--------+----+------+-----+--------------+-------------+-----------+------------+--------------+-------+\n",
      "\n"
     ]
    }
   ],
   "source": [
    "ContarNulos(accidentsUSA)"
   ]
  },
  {
   "cell_type": "markdown",
   "metadata": {},
   "source": [
    "Se limpia el dataset"
   ]
  },
  {
   "cell_type": "code",
   "execution_count": 64,
   "metadata": {},
   "outputs": [
    {
     "data": {
      "text/plain": [
       "644494"
      ]
     },
     "execution_count": 64,
     "metadata": {},
     "output_type": "execute_result"
    }
   ],
   "source": [
    "\n",
    "accidentsUSA=EliminarNulos(accidentsUSA)\n",
    "accidentsUSA.count()"
   ]
  },
  {
   "cell_type": "code",
   "execution_count": 54,
   "metadata": {},
   "outputs": [
    {
     "name": "stdout",
     "output_type": "stream",
     "text": [
      "+-----------------+----------+--------+----+------+-----+--------------+-------------+-----------+------------+--------------+-------+\n",
      "|Severity_accident|Start_Time|End_Time|City|County|State|Temperature(F)|Wind_Chill(F)|Humidity(%)|Pressure(in)|Visibility(mi)|Zipcode|\n",
      "+-----------------+----------+--------+----+------+-----+--------------+-------------+-----------+------------+--------------+-------+\n",
      "|                0|         0|       0|   0|     0|    0|             0|            0|          0|           0|             0|      0|\n",
      "+-----------------+----------+--------+----+------+-----+--------------+-------------+-----------+------------+--------------+-------+\n",
      "\n"
     ]
    }
   ],
   "source": [
    "ContarNulos(accidentsUSA)"
   ]
  },
  {
   "cell_type": "markdown",
   "metadata": {},
   "source": [
    "Se lee el archivo del clima"
   ]
  },
  {
   "cell_type": "code",
   "execution_count": 55,
   "metadata": {},
   "outputs": [
    {
     "name": "stdout",
     "output_type": "stream",
     "text": [
      "168132\n",
      "+-------+-----+--------+--------------+------------+-----------------+-----------+-----------+-----------+-----------+--------+--------+-----+-------+\n",
      "|EventId| Type|Severity|StartTime(UTC)|EndTime(UTC)|Precipitation(in)|   TimeZone|AirportCode|LocationLat|LocationLng|    City|  County|State|ZipCode|\n",
      "+-------+-----+--------+--------------+------------+-----------------+-----------+-----------+-----------+-----------+--------+--------+-----+-------+\n",
      "| W-1973| Snow|   Light|      1/6/2021|    1/6/2021|              0.0|US/Mountain|       K04V|    38.0972|  -106.1689|Saguache|Saguache|   CO|  81149|\n",
      "| W-1974| Snow|   Light|     1/10/2021|   1/10/2021|              0.0|US/Mountain|       K04V|    38.0972|  -106.1689|Saguache|Saguache|   CO|  81149|\n",
      "| W-1975|Storm|  Severe|     1/14/2021|   1/14/2021|              0.0|US/Mountain|       K04V|    38.0972|  -106.1689|Saguache|Saguache|   CO|  81149|\n",
      "| W-1976|Storm|  Severe|     1/14/2021|   1/14/2021|              0.0|US/Mountain|       K04V|    38.0972|  -106.1689|Saguache|Saguache|   CO|  81149|\n",
      "| W-1977|Storm|  Severe|     1/14/2021|   1/14/2021|              0.0|US/Mountain|       K04V|    38.0972|  -106.1689|Saguache|Saguache|   CO|  81149|\n",
      "| W-1978| Snow|   Light|     1/19/2021|   1/19/2021|              0.0|US/Mountain|       K04V|    38.0972|  -106.1689|Saguache|Saguache|   CO|  81149|\n",
      "| W-1979| Snow|   Light|     1/19/2021|   1/19/2021|             0.03|US/Mountain|       K04V|    38.0972|  -106.1689|Saguache|Saguache|   CO|  81149|\n",
      "| W-1980| Snow|   Light|     1/20/2021|   1/20/2021|              0.0|US/Mountain|       K04V|    38.0972|  -106.1689|Saguache|Saguache|   CO|  81149|\n",
      "| W-1981| Snow|   Light|     1/23/2021|   1/23/2021|              0.0|US/Mountain|       K04V|    38.0972|  -106.1689|Saguache|Saguache|   CO|  81149|\n",
      "| W-1982| Snow|   Light|     1/23/2021|   1/23/2021|              0.0|US/Mountain|       K04V|    38.0972|  -106.1689|Saguache|Saguache|   CO|  81149|\n",
      "| W-1983|  Fog|Moderate|     1/24/2021|   1/24/2021|              0.0|US/Mountain|       K04V|    38.0972|  -106.1689|Saguache|Saguache|   CO|  81149|\n",
      "| W-1984| Snow|   Light|     1/24/2021|   1/24/2021|              0.0|US/Mountain|       K04V|    38.0972|  -106.1689|Saguache|Saguache|   CO|  81149|\n",
      "| W-1985| Snow|   Light|     1/24/2021|   1/24/2021|              0.0|US/Mountain|       K04V|    38.0972|  -106.1689|Saguache|Saguache|   CO|  81149|\n",
      "| W-1986| Snow|   Light|     1/25/2021|   1/25/2021|              0.0|US/Mountain|       K04V|    38.0972|  -106.1689|Saguache|Saguache|   CO|  81149|\n",
      "| W-1987| Snow|   Light|     1/25/2021|   1/25/2021|              0.0|US/Mountain|       K04V|    38.0972|  -106.1689|Saguache|Saguache|   CO|  81149|\n",
      "| W-1988| Snow|   Light|     1/26/2021|   1/26/2021|             0.04|US/Mountain|       K04V|    38.0972|  -106.1689|Saguache|Saguache|   CO|  81149|\n",
      "| W-1989| Snow|   Light|     1/26/2021|   1/26/2021|             0.03|US/Mountain|       K04V|    38.0972|  -106.1689|Saguache|Saguache|   CO|  81149|\n",
      "| W-1990| Snow|   Light|     1/26/2021|   1/26/2021|             0.03|US/Mountain|       K04V|    38.0972|  -106.1689|Saguache|Saguache|   CO|  81149|\n",
      "| W-1991| Snow|   Light|     1/30/2021|   1/30/2021|              0.0|US/Mountain|       K04V|    38.0972|  -106.1689|Saguache|Saguache|   CO|  81149|\n",
      "| W-1992|Storm|  Severe|     1/30/2021|   1/30/2021|              0.0|US/Mountain|       K04V|    38.0972|  -106.1689|Saguache|Saguache|   CO|  81149|\n",
      "+-------+-----+--------+--------------+------------+-----------------+-----------+-----------+-----------+-----------+--------+--------+-----+-------+\n",
      "only showing top 20 rows\n",
      "\n"
     ]
    }
   ],
   "source": [
    "def leerClima():\n",
    "    return spark \\\n",
    "        .read \\\n",
    "        .format(\"csv\") \\\n",
    "        .option(\"path\", \"Datos/WeatherEvents_Jan2016-Dec2021_solo_2021.csv\") \\\n",
    "        .option(\"header\", True) \\\n",
    "        .schema(StructType([\n",
    "                    StructField(\"EventId\", StringType()),\n",
    "                    StructField(\"Type\", StringType()),\n",
    "                    StructField(\"Severity\", StringType()),\n",
    "                    StructField(\"StartTime(UTC)\", StringType()),\n",
    "                    StructField(\"EndTime(UTC)\", StringType()),\n",
    "                    StructField(\"Precipitation(in)\", FloatType()),\n",
    "                    StructField(\"TimeZone\", StringType()),\n",
    "                    StructField(\"AirportCode\", StringType()),\n",
    "                    StructField(\"LocationLat\", FloatType()),\n",
    "                    StructField(\"LocationLng\", FloatType()),\n",
    "                    StructField(\"City\", StringType()),\n",
    "                    StructField(\"County\", StringType()),\n",
    "                    StructField(\"State\", StringType()),\n",
    "                    StructField(\"ZipCode\", StringType()),\n",
    "                \n",
    "                    ])) \\\n",
    "        .load()\n",
    "WeatherFull=leerClima()\n",
    "print(WeatherFull.count())\n",
    "WeatherFull.show()"
   ]
  },
  {
   "cell_type": "markdown",
   "metadata": {},
   "source": [
    "Simplificamos el dataset con lo que necesitamos"
   ]
  },
  {
   "cell_type": "code",
   "execution_count": 56,
   "metadata": {},
   "outputs": [],
   "source": [
    "weatherUSA=WeatherFull.select(WeatherFull[\"Type\"],\n",
    "WeatherFull[\"Severity\"],WeatherFull[\"StartTime(UTC)\"],WeatherFull[\"EndTime(UTC)\"],\n",
    "WeatherFull[\"Precipitation(in)\"],WeatherFull[\"State\"],WeatherFull[\"County\"],\n",
    "WeatherFull[\"City\"],\n",
    "WeatherFull[\"Zipcode\"])"
   ]
  },
  {
   "cell_type": "code",
   "execution_count": 57,
   "metadata": {},
   "outputs": [
    {
     "name": "stdout",
     "output_type": "stream",
     "text": [
      "+-------+------+--------+--------------+------------+-------------------+------+-------------+--------+------------------+\n",
      "|summary|  Type|Severity|StartTime(UTC)|EndTime(UTC)|  Precipitation(in)| State|       County|    City|           Zipcode|\n",
      "+-------+------+--------+--------------+------------+-------------------+------+-------------+--------+------------------+\n",
      "|  count|168132|  168132|        168132|      168132|             168132|168132|       168132|  167276|            166132|\n",
      "|   mean|  null|    null|          null|        null|0.08292591528754716|  null|         null|    null| 52135.55378253437|\n",
      "| stddev|  null|    null|          null|        null| 0.5147711528937678|  null|         null|    null|26458.947353143405|\n",
      "|    min|  Cold|   Heavy|      1/1/2021|    1/1/2021|                0.0|    AL|      Alamosa|Abingdon|             10024|\n",
      "|    max| Storm|     UNK|      9/9/2021|    9/9/2021|             105.58|    WY|Zapata County|  Zapata|             99362|\n",
      "+-------+------+--------+--------------+------------+-------------------+------+-------------+--------+------------------+\n",
      "\n"
     ]
    }
   ],
   "source": [
    "weatherUSA.describe().show()"
   ]
  },
  {
   "cell_type": "code",
   "execution_count": 58,
   "metadata": {},
   "outputs": [
    {
     "name": "stdout",
     "output_type": "stream",
     "text": [
      "+----+--------+--------------+------------+-----------------+-----+------+----+-------+\n",
      "|Type|Severity|StartTime(UTC)|EndTime(UTC)|Precipitation(in)|State|County|City|Zipcode|\n",
      "+----+--------+--------------+------------+-----------------+-----+------+----+-------+\n",
      "|   0|       0|             0|           0|                0|    0|     0| 856|   2000|\n",
      "+----+--------+--------------+------------+-----------------+-----+------+----+-------+\n",
      "\n"
     ]
    }
   ],
   "source": [
    "ContarNulos(weatherUSA)"
   ]
  },
  {
   "cell_type": "markdown",
   "metadata": {},
   "source": [
    "Se limpia el dataset"
   ]
  },
  {
   "cell_type": "code",
   "execution_count": 59,
   "metadata": {},
   "outputs": [
    {
     "name": "stdout",
     "output_type": "stream",
     "text": [
      "166132\n",
      "+----+--------+--------------+------------+-----------------+-----+------+----+-------+\n",
      "|Type|Severity|StartTime(UTC)|EndTime(UTC)|Precipitation(in)|State|County|City|Zipcode|\n",
      "+----+--------+--------------+------------+-----------------+-----+------+----+-------+\n",
      "|   0|       0|             0|           0|                0|    0|     0|   0|      0|\n",
      "+----+--------+--------------+------------+-----------------+-----+------+----+-------+\n",
      "\n"
     ]
    }
   ],
   "source": [
    "weatherUSA=EliminarNulos(weatherUSA)\n",
    "print(weatherUSA.count())\n",
    "ContarNulos(weatherUSA)"
   ]
  },
  {
   "cell_type": "code",
   "execution_count": 60,
   "metadata": {},
   "outputs": [
    {
     "name": "stdout",
     "output_type": "stream",
     "text": [
      "+-------------+-----+\n",
      "|         Type|count|\n",
      "+-------------+-----+\n",
      "|         Cold| 3232|\n",
      "|          Fog|45945|\n",
      "|        Storm| 1430|\n",
      "|Precipitation| 4306|\n",
      "|         Hail|   16|\n",
      "|         Snow|22926|\n",
      "|         Rain|88277|\n",
      "+-------------+-----+\n",
      "\n"
     ]
    }
   ],
   "source": [
    "weatherUSA.groupBy(\"Type\").count().show()"
   ]
  },
  {
   "cell_type": "markdown",
   "metadata": {},
   "source": [
    "Intenamos balancear el target"
   ]
  },
  {
   "cell_type": "code",
   "execution_count": 61,
   "metadata": {},
   "outputs": [
    {
     "name": "stdout",
     "output_type": "stream",
     "text": [
      "+-------------+-----+\n",
      "|         Type|count|\n",
      "+-------------+-----+\n",
      "|         Cold| 3232|\n",
      "|          Fog|45945|\n",
      "|        Storm| 1430|\n",
      "|Precipitation| 4306|\n",
      "|         Hail|   16|\n",
      "|         Snow|22926|\n",
      "|         Rain|88277|\n",
      "+-------------+-----+\n",
      "\n",
      "+------+-----+\n",
      "|  Type|count|\n",
      "+------+-----+\n",
      "|   Fog|45945|\n",
      "|Others| 8984|\n",
      "|  Snow|22926|\n",
      "|  Rain|88277|\n",
      "+------+-----+\n",
      "\n",
      "+------+-----+\n",
      "|  Type|count|\n",
      "+------+-----+\n",
      "|   Fog| 8984|\n",
      "|Others| 8984|\n",
      "|  Rain| 8984|\n",
      "|  Snow| 8984|\n",
      "+------+-----+\n",
      "\n"
     ]
    }
   ],
   "source": [
    "weatherUSA.groupBy(\"Type\").count().show()\n",
    "\n",
    "weatherUSA = weatherUSA.withColumn(\"Type\", when(weatherUSA.Type == \"Cold\",\"Others\") \\\n",
    "      .when(weatherUSA.Type == \"Storm\",\"Others\") \\\n",
    "      .when(weatherUSA.Type == \"Hail\",\"Others\") \\\n",
    "        .when(weatherUSA.Type == \"Precipitation\",\"Others\") \\\n",
    "      .otherwise(weatherUSA.Type))\n",
    "#weatherUSA.show()\n",
    "\n",
    "weatherUSA.groupBy(\"Type\").count().show()\n",
    "\n",
    "n = 8984\n",
    "weatherUSA = weatherUSA.withColumn('rand_col', F.rand())\n",
    "weatherUSA = weatherUSA.withColumn(\"row_num\",F.row_number().over(Window.partitionBy(\"Type\")\\\n",
    "                .orderBy(\"rand_col\"))).filter(col(\"row_num\")<=n)\\\n",
    "                .drop(\"rand_col\", \"row_num\")\n",
    "\n",
    "weatherUSA.groupBy(\"Type\").count().show()"
   ]
  },
  {
   "cell_type": "markdown",
   "metadata": {},
   "source": [
    "EDA"
   ]
  },
  {
   "cell_type": "code",
   "execution_count": 62,
   "metadata": {},
   "outputs": [
    {
     "data": {
      "text/plain": [
       "<AxesSubplot:>"
      ]
     },
     "execution_count": 62,
     "metadata": {},
     "output_type": "execute_result"
    },
    {
     "data": {
      "image/png": "[encoded data removed]",
      "text/plain": [
       "<Figure size 432x288 with 1 Axes>"
      ]
     },
     "metadata": {
      "needs_background": "light"
     },
     "output_type": "display_data"
    }
   ],
   "source": [
    "x=accidentsUSA.toPandas()[\"Severity_accident\"].values.tolist()\n",
    "\n",
    "pd.Series(x).value_counts(sort=False).plot(kind='bar')\n",
    "\n"
   ]
  },
  {
   "cell_type": "code",
   "execution_count": 63,
   "metadata": {},
   "outputs": [
    {
     "ename": "KeyboardInterrupt",
     "evalue": "",
     "output_type": "error",
     "traceback": [
      "\u001b[1;31m---------------------------------------------------------------------------\u001b[0m",
      "\u001b[1;31mKeyboardInterrupt\u001b[0m                         Traceback (most recent call last)",
      "\u001b[1;32m<ipython-input-63-c72bec80797f>\u001b[0m in \u001b[0;36m<module>\u001b[1;34m\u001b[0m\n\u001b[1;32m----> 1\u001b[1;33m \u001b[0my\u001b[0m\u001b[1;33m=\u001b[0m\u001b[0maccidentsUSA\u001b[0m\u001b[1;33m.\u001b[0m\u001b[0mtoPandas\u001b[0m\u001b[1;33m(\u001b[0m\u001b[1;33m)\u001b[0m\u001b[1;33m[\u001b[0m\u001b[1;34m\"Visibility(mi)\"\u001b[0m\u001b[1;33m]\u001b[0m\u001b[1;33m.\u001b[0m\u001b[0mvalues\u001b[0m\u001b[1;33m.\u001b[0m\u001b[0mtolist\u001b[0m\u001b[1;33m(\u001b[0m\u001b[1;33m)\u001b[0m\u001b[1;33m\u001b[0m\u001b[1;33m\u001b[0m\u001b[0m\n\u001b[0m\u001b[0;32m      2\u001b[0m \u001b[0mx\u001b[0m \u001b[1;33m=\u001b[0m \u001b[0mnp\u001b[0m\u001b[1;33m.\u001b[0m\u001b[0marange\u001b[0m\u001b[1;33m(\u001b[0m\u001b[1;36m0\u001b[0m\u001b[1;33m,\u001b[0m \u001b[0mlen\u001b[0m\u001b[1;33m(\u001b[0m\u001b[0my\u001b[0m\u001b[1;33m)\u001b[0m\u001b[1;33m)\u001b[0m\u001b[1;33m\u001b[0m\u001b[1;33m\u001b[0m\u001b[0m\n\u001b[0;32m      3\u001b[0m \u001b[0mprint\u001b[0m\u001b[1;33m(\u001b[0m\u001b[0mlen\u001b[0m\u001b[1;33m(\u001b[0m\u001b[0my\u001b[0m\u001b[1;33m)\u001b[0m\u001b[1;33m)\u001b[0m\u001b[1;33m\u001b[0m\u001b[1;33m\u001b[0m\u001b[0m\n\u001b[0;32m      4\u001b[0m \u001b[0mplt\u001b[0m\u001b[1;33m.\u001b[0m\u001b[0mtitle\u001b[0m\u001b[1;33m(\u001b[0m\u001b[1;34m\"Visibilidad en millas\"\u001b[0m\u001b[1;33m)\u001b[0m\u001b[1;33m\u001b[0m\u001b[1;33m\u001b[0m\u001b[0m\n\u001b[0;32m      5\u001b[0m \u001b[1;33m\u001b[0m\u001b[0m\n",
      "\u001b[1;32mC:\\Spark\\spark-3.2.0-bin-hadoop3.2\\python\\pyspark\\sql\\pandas\\conversion.py\u001b[0m in \u001b[0;36mtoPandas\u001b[1;34m(self)\u001b[0m\n\u001b[0;32m    155\u001b[0m \u001b[1;33m\u001b[0m\u001b[0m\n\u001b[0;32m    156\u001b[0m         \u001b[1;31m# Below is toPandas without Arrow optimization.\u001b[0m\u001b[1;33m\u001b[0m\u001b[1;33m\u001b[0m\u001b[1;33m\u001b[0m\u001b[0m\n\u001b[1;32m--> 157\u001b[1;33m         \u001b[0mpdf\u001b[0m \u001b[1;33m=\u001b[0m \u001b[0mpd\u001b[0m\u001b[1;33m.\u001b[0m\u001b[0mDataFrame\u001b[0m\u001b[1;33m.\u001b[0m\u001b[0mfrom_records\u001b[0m\u001b[1;33m(\u001b[0m\u001b[0mself\u001b[0m\u001b[1;33m.\u001b[0m\u001b[0mcollect\u001b[0m\u001b[1;33m(\u001b[0m\u001b[1;33m)\u001b[0m\u001b[1;33m,\u001b[0m \u001b[0mcolumns\u001b[0m\u001b[1;33m=\u001b[0m\u001b[0mself\u001b[0m\u001b[1;33m.\u001b[0m\u001b[0mcolumns\u001b[0m\u001b[1;33m)\u001b[0m\u001b[1;33m\u001b[0m\u001b[1;33m\u001b[0m\u001b[0m\n\u001b[0m\u001b[0;32m    158\u001b[0m         \u001b[0mcolumn_counter\u001b[0m \u001b[1;33m=\u001b[0m \u001b[0mCounter\u001b[0m\u001b[1;33m(\u001b[0m\u001b[0mself\u001b[0m\u001b[1;33m.\u001b[0m\u001b[0mcolumns\u001b[0m\u001b[1;33m)\u001b[0m\u001b[1;33m\u001b[0m\u001b[1;33m\u001b[0m\u001b[0m\n\u001b[0;32m    159\u001b[0m \u001b[1;33m\u001b[0m\u001b[0m\n",
      "\u001b[1;32mC:\\Spark\\spark-3.2.0-bin-hadoop3.2\\python\\pyspark\\sql\\dataframe.py\u001b[0m in \u001b[0;36mcollect\u001b[1;34m(self)\u001b[0m\n\u001b[0;32m    692\u001b[0m         \u001b[1;32mwith\u001b[0m \u001b[0mSCCallSiteSync\u001b[0m\u001b[1;33m(\u001b[0m\u001b[0mself\u001b[0m\u001b[1;33m.\u001b[0m\u001b[0m_sc\u001b[0m\u001b[1;33m)\u001b[0m \u001b[1;32mas\u001b[0m \u001b[0mcss\u001b[0m\u001b[1;33m:\u001b[0m\u001b[1;33m\u001b[0m\u001b[1;33m\u001b[0m\u001b[0m\n\u001b[0;32m    693\u001b[0m             \u001b[0msock_info\u001b[0m \u001b[1;33m=\u001b[0m \u001b[0mself\u001b[0m\u001b[1;33m.\u001b[0m\u001b[0m_jdf\u001b[0m\u001b[1;33m.\u001b[0m\u001b[0mcollectToPython\u001b[0m\u001b[1;33m(\u001b[0m\u001b[1;33m)\u001b[0m\u001b[1;33m\u001b[0m\u001b[1;33m\u001b[0m\u001b[0m\n\u001b[1;32m--> 694\u001b[1;33m         \u001b[1;32mreturn\u001b[0m \u001b[0mlist\u001b[0m\u001b[1;33m(\u001b[0m\u001b[0m_load_from_socket\u001b[0m\u001b[1;33m(\u001b[0m\u001b[0msock_info\u001b[0m\u001b[1;33m,\u001b[0m \u001b[0mBatchedSerializer\u001b[0m\u001b[1;33m(\u001b[0m\u001b[0mPickleSerializer\u001b[0m\u001b[1;33m(\u001b[0m\u001b[1;33m)\u001b[0m\u001b[1;33m)\u001b[0m\u001b[1;33m)\u001b[0m\u001b[1;33m)\u001b[0m\u001b[1;33m\u001b[0m\u001b[1;33m\u001b[0m\u001b[0m\n\u001b[0m\u001b[0;32m    695\u001b[0m \u001b[1;33m\u001b[0m\u001b[0m\n\u001b[0;32m    696\u001b[0m     \u001b[1;32mdef\u001b[0m \u001b[0mtoLocalIterator\u001b[0m\u001b[1;33m(\u001b[0m\u001b[0mself\u001b[0m\u001b[1;33m,\u001b[0m \u001b[0mprefetchPartitions\u001b[0m\u001b[1;33m=\u001b[0m\u001b[1;32mFalse\u001b[0m\u001b[1;33m)\u001b[0m\u001b[1;33m:\u001b[0m\u001b[1;33m\u001b[0m\u001b[1;33m\u001b[0m\u001b[0m\n",
      "\u001b[1;32mC:\\Spark\\spark-3.2.0-bin-hadoop3.2\\python\\pyspark\\serializers.py\u001b[0m in \u001b[0;36mload_stream\u001b[1;34m(self, stream)\u001b[0m\n\u001b[0;32m    136\u001b[0m         \u001b[1;32mwhile\u001b[0m \u001b[1;32mTrue\u001b[0m\u001b[1;33m:\u001b[0m\u001b[1;33m\u001b[0m\u001b[1;33m\u001b[0m\u001b[0m\n\u001b[0;32m    137\u001b[0m             \u001b[1;32mtry\u001b[0m\u001b[1;33m:\u001b[0m\u001b[1;33m\u001b[0m\u001b[1;33m\u001b[0m\u001b[0m\n\u001b[1;32m--> 138\u001b[1;33m                 \u001b[1;32myield\u001b[0m \u001b[0mself\u001b[0m\u001b[1;33m.\u001b[0m\u001b[0m_read_with_length\u001b[0m\u001b[1;33m(\u001b[0m\u001b[0mstream\u001b[0m\u001b[1;33m)\u001b[0m\u001b[1;33m\u001b[0m\u001b[1;33m\u001b[0m\u001b[0m\n\u001b[0m\u001b[0;32m    139\u001b[0m             \u001b[1;32mexcept\u001b[0m \u001b[0mEOFError\u001b[0m\u001b[1;33m:\u001b[0m\u001b[1;33m\u001b[0m\u001b[1;33m\u001b[0m\u001b[0m\n\u001b[0;32m    140\u001b[0m                 \u001b[1;32mreturn\u001b[0m\u001b[1;33m\u001b[0m\u001b[1;33m\u001b[0m\u001b[0m\n",
      "\u001b[1;32mC:\\Spark\\spark-3.2.0-bin-hadoop3.2\\python\\pyspark\\serializers.py\u001b[0m in \u001b[0;36m_read_with_length\u001b[1;34m(self, stream)\u001b[0m\n\u001b[0;32m    158\u001b[0m         \u001b[1;32mif\u001b[0m \u001b[0mlen\u001b[0m\u001b[1;33m(\u001b[0m\u001b[0mobj\u001b[0m\u001b[1;33m)\u001b[0m \u001b[1;33m<\u001b[0m \u001b[0mlength\u001b[0m\u001b[1;33m:\u001b[0m\u001b[1;33m\u001b[0m\u001b[1;33m\u001b[0m\u001b[0m\n\u001b[0;32m    159\u001b[0m             \u001b[1;32mraise\u001b[0m \u001b[0mEOFError\u001b[0m\u001b[1;33m\u001b[0m\u001b[1;33m\u001b[0m\u001b[0m\n\u001b[1;32m--> 160\u001b[1;33m         \u001b[1;32mreturn\u001b[0m \u001b[0mself\u001b[0m\u001b[1;33m.\u001b[0m\u001b[0mloads\u001b[0m\u001b[1;33m(\u001b[0m\u001b[0mobj\u001b[0m\u001b[1;33m)\u001b[0m\u001b[1;33m\u001b[0m\u001b[1;33m\u001b[0m\u001b[0m\n\u001b[0m\u001b[0;32m    161\u001b[0m \u001b[1;33m\u001b[0m\u001b[0m\n\u001b[0;32m    162\u001b[0m     \u001b[1;32mdef\u001b[0m \u001b[0mdumps\u001b[0m\u001b[1;33m(\u001b[0m\u001b[0mself\u001b[0m\u001b[1;33m,\u001b[0m \u001b[0mobj\u001b[0m\u001b[1;33m)\u001b[0m\u001b[1;33m:\u001b[0m\u001b[1;33m\u001b[0m\u001b[1;33m\u001b[0m\u001b[0m\n",
      "\u001b[1;32mC:\\Spark\\spark-3.2.0-bin-hadoop3.2\\python\\pyspark\\serializers.py\u001b[0m in \u001b[0;36mloads\u001b[1;34m(self, obj, encoding)\u001b[0m\n\u001b[0;32m    428\u001b[0m \u001b[1;33m\u001b[0m\u001b[0m\n\u001b[0;32m    429\u001b[0m     \u001b[1;32mdef\u001b[0m \u001b[0mloads\u001b[0m\u001b[1;33m(\u001b[0m\u001b[0mself\u001b[0m\u001b[1;33m,\u001b[0m \u001b[0mobj\u001b[0m\u001b[1;33m,\u001b[0m \u001b[0mencoding\u001b[0m\u001b[1;33m=\u001b[0m\u001b[1;34m\"bytes\"\u001b[0m\u001b[1;33m)\u001b[0m\u001b[1;33m:\u001b[0m\u001b[1;33m\u001b[0m\u001b[1;33m\u001b[0m\u001b[0m\n\u001b[1;32m--> 430\u001b[1;33m         \u001b[1;32mreturn\u001b[0m \u001b[0mpickle\u001b[0m\u001b[1;33m.\u001b[0m\u001b[0mloads\u001b[0m\u001b[1;33m(\u001b[0m\u001b[0mobj\u001b[0m\u001b[1;33m,\u001b[0m \u001b[0mencoding\u001b[0m\u001b[1;33m=\u001b[0m\u001b[0mencoding\u001b[0m\u001b[1;33m)\u001b[0m\u001b[1;33m\u001b[0m\u001b[1;33m\u001b[0m\u001b[0m\n\u001b[0m\u001b[0;32m    431\u001b[0m \u001b[1;33m\u001b[0m\u001b[0m\n\u001b[0;32m    432\u001b[0m \u001b[1;33m\u001b[0m\u001b[0m\n",
      "\u001b[1;32mC:\\Spark\\spark-3.2.0-bin-hadoop3.2\\python\\pyspark\\sql\\types.py\u001b[0m in \u001b[0;36m<lambda>\u001b[1;34m(*a)\u001b[0m\n\u001b[0;32m   1416\u001b[0m \u001b[1;31m# This is used to unpickle a Row from JVM\u001b[0m\u001b[1;33m\u001b[0m\u001b[1;33m\u001b[0m\u001b[1;33m\u001b[0m\u001b[0m\n\u001b[0;32m   1417\u001b[0m \u001b[1;32mdef\u001b[0m \u001b[0m_create_row_inbound_converter\u001b[0m\u001b[1;33m(\u001b[0m\u001b[0mdataType\u001b[0m\u001b[1;33m)\u001b[0m\u001b[1;33m:\u001b[0m\u001b[1;33m\u001b[0m\u001b[1;33m\u001b[0m\u001b[0m\n\u001b[1;32m-> 1418\u001b[1;33m     \u001b[1;32mreturn\u001b[0m \u001b[1;32mlambda\u001b[0m \u001b[1;33m*\u001b[0m\u001b[0ma\u001b[0m\u001b[1;33m:\u001b[0m \u001b[0mdataType\u001b[0m\u001b[1;33m.\u001b[0m\u001b[0mfromInternal\u001b[0m\u001b[1;33m(\u001b[0m\u001b[0ma\u001b[0m\u001b[1;33m)\u001b[0m\u001b[1;33m\u001b[0m\u001b[1;33m\u001b[0m\u001b[0m\n\u001b[0m\u001b[0;32m   1419\u001b[0m \u001b[1;33m\u001b[0m\u001b[0m\n\u001b[0;32m   1420\u001b[0m \u001b[1;33m\u001b[0m\u001b[0m\n",
      "\u001b[1;32mC:\\Spark\\spark-3.2.0-bin-hadoop3.2\\python\\pyspark\\sql\\types.py\u001b[0m in \u001b[0;36mfromInternal\u001b[1;34m(self, obj)\u001b[0m\n\u001b[0;32m    649\u001b[0m             \u001b[1;31m# it's already converted by pickler\u001b[0m\u001b[1;33m\u001b[0m\u001b[1;33m\u001b[0m\u001b[1;33m\u001b[0m\u001b[0m\n\u001b[0;32m    650\u001b[0m             \u001b[1;32mreturn\u001b[0m \u001b[0mobj\u001b[0m\u001b[1;33m\u001b[0m\u001b[1;33m\u001b[0m\u001b[0m\n\u001b[1;32m--> 651\u001b[1;33m         \u001b[1;32mif\u001b[0m \u001b[0mself\u001b[0m\u001b[1;33m.\u001b[0m\u001b[0m_needSerializeAnyField\u001b[0m\u001b[1;33m:\u001b[0m\u001b[1;33m\u001b[0m\u001b[1;33m\u001b[0m\u001b[0m\n\u001b[0m\u001b[0;32m    652\u001b[0m             \u001b[1;31m# Only calling fromInternal function for fields that need conversion\u001b[0m\u001b[1;33m\u001b[0m\u001b[1;33m\u001b[0m\u001b[1;33m\u001b[0m\u001b[0m\n\u001b[0;32m    653\u001b[0m             values = [f.fromInternal(v) if c else v\n",
      "\u001b[1;31mKeyboardInterrupt\u001b[0m: "
     ]
    }
   ],
   "source": [
    "\n",
    "y=accidentsUSA.toPandas()[\"Visibility(mi)\"].values.tolist()\n",
    "x = np.arange(0, len(y))\n",
    "print(len(y))\n",
    "plt.title(\"Visibilidad en millas\")\n",
    "\n",
    "plt.plot(x, y, color =\"green\")\n",
    "plt.show()"
   ]
  },
  {
   "cell_type": "code",
   "execution_count": null,
   "metadata": {},
   "outputs": [
    {
     "data": {
      "text/plain": [
       "<AxesSubplot:>"
      ]
     },
     "execution_count": 19,
     "metadata": {},
     "output_type": "execute_result"
    },
    {
     "data": {
      "image/png": "[encoded data removed]",
      "text/plain": [
       "<Figure size 432x288 with 1 Axes>"
      ]
     },
     "metadata": {
      "needs_background": "light"
     },
     "output_type": "display_data"
    }
   ],
   "source": [
    "x=weatherUSA.toPandas()[\"Type\"].values.tolist()\n",
    "\n",
    "pd.Series(x).value_counts(sort=False).plot(kind='bar')"
   ]
  },
  {
   "cell_type": "code",
   "execution_count": null,
   "metadata": {},
   "outputs": [
    {
     "data": {
      "text/plain": [
       "<AxesSubplot:>"
      ]
     },
     "execution_count": 24,
     "metadata": {},
     "output_type": "execute_result"
    },
    {
     "data": {
      "image/png": "[encoded data removed]",
      "text/plain": [
       "<Figure size 432x288 with 1 Axes>"
      ]
     },
     "metadata": {
      "needs_background": "light"
     },
     "output_type": "display_data"
    }
   ],
   "source": [
    "x=weatherUSA.toPandas()[\"Severity\"].values.tolist()\n",
    "\n",
    "pd.Series(x).value_counts(sort=False).plot(kind='bar')"
   ]
  },
  {
   "cell_type": "markdown",
   "metadata": {},
   "source": [
    "Union de dataframes\n"
   ]
  },
  {
   "cell_type": "code",
   "execution_count": null,
   "metadata": {},
   "outputs": [
    {
     "name": "stdout",
     "output_type": "stream",
     "text": [
      "2384\n",
      "root\n",
      " |-- Type: string (nullable = true)\n",
      " |-- Severity: string (nullable = true)\n",
      " |-- StartTime(UTC): string (nullable = true)\n",
      " |-- EndTime(UTC): string (nullable = true)\n",
      " |-- Precipitation(in): float (nullable = true)\n",
      " |-- State: string (nullable = true)\n",
      " |-- County: string (nullable = true)\n",
      " |-- City: string (nullable = true)\n",
      " |-- Zipcode: string (nullable = true)\n",
      " |-- Severity_accident: integer (nullable = true)\n",
      " |-- Start_Time: string (nullable = true)\n",
      " |-- End_Time: string (nullable = true)\n",
      " |-- City: string (nullable = true)\n",
      " |-- County: string (nullable = true)\n",
      " |-- State: string (nullable = true)\n",
      " |-- Temperature(F): float (nullable = true)\n",
      " |-- Wind_Chill(F): float (nullable = true)\n",
      " |-- Humidity(%): float (nullable = true)\n",
      " |-- Pressure(in): float (nullable = true)\n",
      " |-- Visibility(mi): float (nullable = true)\n",
      " |-- Zipcode: string (nullable = true)\n",
      "\n",
      "+------+-----+\n",
      "|  Type|count|\n",
      "+------+-----+\n",
      "|   Fog|  412|\n",
      "|Others|  505|\n",
      "|  Rain|  444|\n",
      "|  Snow| 1023|\n",
      "+------+-----+\n",
      "\n"
     ]
    }
   ],
   "source": [
    "FullJoinDF=weatherUSA.join(accidentsUSA, (weatherUSA[\"City\"] == accidentsUSA[\"City\"]) &\n",
    "   ( weatherUSA[\"County\"] == accidentsUSA[\"County\"])  &\n",
    "   ( weatherUSA[\"State\"] == accidentsUSA[\"State\"])  &\n",
    "   ( weatherUSA[\"ZipCode\"] == accidentsUSA[\"ZipCode\"])  &\n",
    "   ( weatherUSA[\"StartTime(UTC)\"] == accidentsUSA[\"Start_Time\"]),\"inner\")\n",
    "\n",
    "rows=FullJoinDF.count()\n",
    "print(rows)\n",
    "\n",
    "FullJoinDF.printSchema()\n",
    "\n",
    "FullJoinDF.groupBy(\"Type\").count().show()"
   ]
  },
  {
   "cell_type": "markdown",
   "metadata": {},
   "source": [
    "Se codifica el target"
   ]
  },
  {
   "cell_type": "code",
   "execution_count": null,
   "metadata": {},
   "outputs": [
    {
     "name": "stdout",
     "output_type": "stream",
     "text": [
      "root\n",
      " |-- Type: string (nullable = true)\n",
      " |-- Severity: string (nullable = true)\n",
      " |-- StartTime(UTC): string (nullable = true)\n",
      " |-- EndTime(UTC): string (nullable = true)\n",
      " |-- Precipitation(in): float (nullable = true)\n",
      " |-- State: string (nullable = true)\n",
      " |-- County: string (nullable = true)\n",
      " |-- City: string (nullable = true)\n",
      " |-- Zipcode: string (nullable = true)\n",
      " |-- Severity_accident: integer (nullable = true)\n",
      " |-- Start_Time: string (nullable = true)\n",
      " |-- End_Time: string (nullable = true)\n",
      " |-- City: string (nullable = true)\n",
      " |-- County: string (nullable = true)\n",
      " |-- State: string (nullable = true)\n",
      " |-- Temperature(F): float (nullable = true)\n",
      " |-- Wind_Chill(F): float (nullable = true)\n",
      " |-- Humidity(%): float (nullable = true)\n",
      " |-- Pressure(in): float (nullable = true)\n",
      " |-- Visibility(mi): float (nullable = true)\n",
      " |-- Zipcode: string (nullable = true)\n",
      " |-- TypeIndex: double (nullable = false)\n",
      " |-- Severity_accidentIndex: double (nullable = false)\n",
      "\n"
     ]
    }
   ],
   "source": [
    "indexer = StringIndexer(inputCol=\"Type\", outputCol=\"TypeIndex\") \n",
    "indexed = indexer.fit(FullJoinDF).transform(FullJoinDF) \n",
    "FullJoinDF=indexed\n",
    "indexers = StringIndexer(inputCol=\"Severity_accident\", outputCol=\"Severity_accidentIndex\") \n",
    "indexeds = indexers.fit(FullJoinDF).transform(FullJoinDF) \n",
    "\n",
    "#indexeds.select(\"Type\",\"TypeIndex\").show()\n",
    "FullJoinDF=indexeds\n",
    "\n",
    "FullJoinDF.printSchema()"
   ]
  },
  {
   "cell_type": "markdown",
   "metadata": {},
   "source": [
    "Se escogen solo los valores que tienen "
   ]
  },
  {
   "cell_type": "code",
   "execution_count": null,
   "metadata": {},
   "outputs": [
    {
     "name": "stdout",
     "output_type": "stream",
     "text": [
      "+---------+-----------------+--------------+-------------+-----------+------------+--------------+----------------------+\n",
      "|TypeIndex|Precipitation(in)|Temperature(F)|Wind_Chill(F)|Humidity(%)|Pressure(in)|Visibility(mi)|Severity_accidentIndex|\n",
      "+---------+-----------------+--------------+-------------+-----------+------------+--------------+----------------------+\n",
      "|      1.0|              0.0|          23.0|          7.0|       50.0|       28.02|          10.0|                   0.0|\n",
      "|      1.0|              0.0|          23.0|          7.0|       50.0|       28.02|          10.0|                   0.0|\n",
      "|      1.0|              0.0|          23.0|          7.0|       50.0|       28.02|          10.0|                   0.0|\n",
      "|      1.0|              0.0|          23.0|          7.0|       50.0|       28.02|          10.0|                   0.0|\n",
      "|      1.0|              0.0|          23.0|          7.0|       50.0|       28.02|          10.0|                   0.0|\n",
      "|      1.0|              0.0|          23.0|          7.0|       50.0|       28.02|          10.0|                   0.0|\n",
      "|      1.0|              0.0|          23.0|          7.0|       50.0|       28.02|          10.0|                   0.0|\n",
      "|      1.0|              0.0|          23.0|          7.0|       50.0|       28.02|          10.0|                   0.0|\n",
      "|      1.0|              0.0|          23.0|          7.0|       50.0|       28.02|          10.0|                   0.0|\n",
      "|      1.0|              0.0|          23.0|          7.0|       50.0|       28.02|          10.0|                   0.0|\n",
      "|      1.0|              0.0|          23.0|          7.0|       50.0|       28.02|          10.0|                   0.0|\n",
      "|      1.0|              0.0|          23.0|          7.0|       50.0|       28.02|          10.0|                   0.0|\n",
      "|      2.0|             0.08|          72.0|         72.0|       91.0|       28.82|           4.0|                   0.0|\n",
      "|      0.0|             0.01|          25.0|         14.0|       96.0|       24.67|           0.5|                   0.0|\n",
      "|      0.0|             0.03|          25.0|         14.0|       96.0|       24.67|           0.5|                   0.0|\n",
      "|      0.0|             0.02|          25.0|         14.0|       96.0|       24.67|           0.5|                   0.0|\n",
      "|      0.0|             0.04|          25.0|         14.0|       96.0|       24.67|           0.5|                   0.0|\n",
      "|      1.0|              0.0|          65.0|         65.0|       81.0|        29.8|          10.0|                   0.0|\n",
      "|      3.0|              0.0|          65.0|         65.0|       81.0|        29.8|          10.0|                   0.0|\n",
      "|      0.0|             0.19|          32.0|         21.0|       96.0|       28.05|           0.5|                   0.0|\n",
      "+---------+-----------------+--------------+-------------+-----------+------------+--------------+----------------------+\n",
      "only showing top 20 rows\n",
      "\n"
     ]
    }
   ],
   "source": [
    "FullJoinDF=FullJoinDF.select(\"TypeIndex\",\"Precipitation(in)\",\"Temperature(F)\",\"Wind_Chill(F)\",\"Humidity(%)\",\"Pressure(in)\",\"Visibility(mi)\",\"Severity_accidentIndex\")\n",
    "FullJoinDF.show()\n"
   ]
  },
  {
   "cell_type": "markdown",
   "metadata": {},
   "source": [
    "Se escribe en la BD"
   ]
  },
  {
   "cell_type": "code",
   "execution_count": null,
   "metadata": {},
   "outputs": [],
   "source": [
    "EscribirDatosEnTabla(FullJoinDF,\"datos\")"
   ]
  },
  {
   "cell_type": "markdown",
   "metadata": {},
   "source": [
    "Se vectoriza y escalan los datos"
   ]
  },
  {
   "cell_type": "code",
   "execution_count": null,
   "metadata": {},
   "outputs": [
    {
     "name": "stdout",
     "output_type": "stream",
     "text": [
      "+---------+-----------------+--------------+-------------+-----------+------------+--------------+----------------------+\n",
      "|TypeIndex|Precipitation(in)|Temperature(F)|Wind_Chill(F)|Humidity(%)|Pressure(in)|Visibility(mi)|Severity_accidentIndex|\n",
      "+---------+-----------------+--------------+-------------+-----------+------------+--------------+----------------------+\n",
      "|      0.0|              0.0|          28.0|         28.0|       93.0|       24.58|           4.0|                   0.0|\n",
      "|      0.0|             0.08|          28.0|         28.0|       93.0|       24.58|           4.0|                   0.0|\n",
      "|      0.0|              0.0|          28.0|         28.0|       93.0|       24.58|           4.0|                   0.0|\n",
      "|      0.0|             0.02|          28.0|         28.0|       93.0|       24.58|           4.0|                   0.0|\n",
      "|      0.0|              0.0|          28.0|         28.0|       93.0|       24.58|           4.0|                   0.0|\n",
      "|      0.0|             0.01|          28.0|         28.0|       93.0|       24.58|           4.0|                   0.0|\n",
      "|      0.0|             0.09|          33.0|         26.0|       75.0|       27.27|          10.0|                   0.0|\n",
      "|      3.0|              0.0|          79.0|         79.0|       23.0|       27.21|          10.0|                   0.0|\n",
      "|      3.0|              0.0|          46.0|         42.0|      100.0|        28.7|           2.0|                   0.0|\n",
      "|      0.0|             0.09|           5.0|        -18.0|       80.0|       28.14|           1.0|                   0.0|\n",
      "|      3.0|              0.0|           5.0|        -18.0|       80.0|       28.14|           1.0|                   0.0|\n",
      "|      3.0|              0.0|          71.0|         71.0|       96.0|       30.05|          0.25|                   0.0|\n",
      "|      0.0|              0.0|          21.0|          9.0|       86.0|       28.48|          0.75|                   0.0|\n",
      "|      0.0|              0.0|          21.0|          9.0|       86.0|       28.48|          0.75|                   0.0|\n",
      "|      2.0|             0.23|          70.0|         70.0|       97.0|       29.29|          10.0|                   0.0|\n",
      "|      1.0|             2.49|          70.0|         70.0|       97.0|       29.29|          10.0|                   0.0|\n",
      "|      0.0|              0.0|          23.0|          9.0|       92.0|       28.26|           1.0|                   0.0|\n",
      "|      1.0|              0.0|          32.0|         25.0|       60.0|       24.11|          10.0|                   0.0|\n",
      "|      0.0|             0.02|          27.0|         12.0|       64.0|       24.69|          10.0|                   0.0|\n",
      "|      1.0|             1.02|          86.0|         86.0|       65.0|       29.92|          10.0|                   0.0|\n",
      "+---------+-----------------+--------------+-------------+-----------+------------+--------------+----------------------+\n",
      "only showing top 20 rows\n",
      "\n"
     ]
    }
   ],
   "source": [
    "def  vectorizar(dataframe):\n",
    "    assembler = VectorAssembler(\n",
    "                    inputCols=[\n",
    "                \"Precipitation(in)\",\"Temperature(F)\",\"Wind_Chill(F)\",\"Humidity(%)\",\"Pressure(in)\",\"Visibility(mi)\",\"Severity_accidentIndex\"],\n",
    "                    outputCol='features')\n",
    "\n",
    "    vector_df = assembler.transform(dataframe)\n",
    "    vector_df = vector_df.select(['features', 'TypeIndex'])\n",
    "    return vector_df\n",
    "\n",
    "\n",
    "def Escalador(dataframe):\n",
    "    standard_scaler = StandardScaler(inputCol='features', outputCol='scaled')\n",
    "    scale_model = standard_scaler.fit(dataframe)\n",
    "\n",
    "    scaled_df = scale_model.transform(dataframe)\n",
    "   \n",
    "    return scaled_df\n",
    "\n",
    "\n",
    "data=LeerDatosEnBD(\"datos\")\n",
    "data.show()\n"
   ]
  },
  {
   "cell_type": "markdown",
   "metadata": {},
   "source": [
    "Separacion de datos"
   ]
  },
  {
   "cell_type": "code",
   "execution_count": null,
   "metadata": {},
   "outputs": [
    {
     "name": "stdout",
     "output_type": "stream",
     "text": [
      "Training Dataset Count: 1652\n",
      "Test Dataset Count: 732\n",
      "root\n",
      " |-- TypeIndex: double (nullable = true)\n",
      " |-- Precipitation(in): float (nullable = true)\n",
      " |-- Temperature(F): float (nullable = true)\n",
      " |-- Wind_Chill(F): float (nullable = true)\n",
      " |-- Humidity(%): float (nullable = true)\n",
      " |-- Pressure(in): float (nullable = true)\n",
      " |-- Visibility(mi): float (nullable = true)\n",
      " |-- Severity_accidentIndex: double (nullable = true)\n",
      "\n",
      "root\n",
      " |-- TypeIndex: double (nullable = true)\n",
      " |-- Precipitation(in): float (nullable = true)\n",
      " |-- Temperature(F): float (nullable = true)\n",
      " |-- Wind_Chill(F): float (nullable = true)\n",
      " |-- Humidity(%): float (nullable = true)\n",
      " |-- Pressure(in): float (nullable = true)\n",
      " |-- Visibility(mi): float (nullable = true)\n",
      " |-- Severity_accidentIndex: double (nullable = true)\n",
      "\n"
     ]
    }
   ],
   "source": [
    "\"\"\"Separacion de datos\"\"\"\n",
    "train, test = data.randomSplit([0.7, 0.3], seed = 2)\n",
    "print(\"Training Dataset Count: \" + str(train.count()))\n",
    "print(\"Test Dataset Count: \" + str(test.count()))\n",
    "train.printSchema()\n",
    "\n",
    "train.printSchema()\n",
    "train=vectorizar(train)\n",
    "\n",
    "train=Escalador(train)\n",
    "\n",
    "testData=vectorizar(test)\n",
    "testData=Escalador(testData)"
   ]
  },
  {
   "cell_type": "markdown",
   "metadata": {},
   "source": [
    "Random Forest"
   ]
  },
  {
   "cell_type": "code",
   "execution_count": null,
   "metadata": {},
   "outputs": [
    {
     "name": "stdout",
     "output_type": "stream",
     "text": [
      "root\n",
      " |-- features: vector (nullable = true)\n",
      " |-- TypeIndex: double (nullable = true)\n",
      " |-- scaled: vector (nullable = true)\n",
      " |-- rawPrediction: vector (nullable = true)\n",
      " |-- probability: vector (nullable = true)\n",
      " |-- prediction: double (nullable = false)\n",
      "\n",
      "+---------+----------+\n",
      "|TypeIndex|Prediccion|\n",
      "+---------+----------+\n",
      "|      0.0|       0.0|\n",
      "|      0.0|       0.0|\n",
      "|      0.0|       3.0|\n",
      "|      0.0|       3.0|\n",
      "|      0.0|       0.0|\n",
      "|      0.0|       3.0|\n",
      "|      0.0|       0.0|\n",
      "|      0.0|       0.0|\n",
      "|      0.0|       0.0|\n",
      "|      0.0|       0.0|\n",
      "|      0.0|       0.0|\n",
      "|      0.0|       0.0|\n",
      "|      0.0|       0.0|\n",
      "|      0.0|       0.0|\n",
      "|      0.0|       0.0|\n",
      "|      0.0|       0.0|\n",
      "|      0.0|       0.0|\n",
      "|      0.0|       0.0|\n",
      "|      0.0|       0.0|\n",
      "|      0.0|       0.0|\n",
      "|      0.0|       0.0|\n",
      "|      0.0|       0.0|\n",
      "|      0.0|       0.0|\n",
      "|      0.0|       0.0|\n",
      "|      0.0|       0.0|\n",
      "|      0.0|       0.0|\n",
      "|      0.0|       0.0|\n",
      "|      0.0|       0.0|\n",
      "|      0.0|       0.0|\n",
      "|      0.0|       0.0|\n",
      "+---------+----------+\n",
      "only showing top 30 rows\n",
      "\n",
      "0.7896174863387978\n",
      "Test Error = 0.210383\n",
      "root\n",
      " |-- features: vector (nullable = true)\n",
      " |-- TypeIndex: double (nullable = true)\n",
      " |-- scaled: vector (nullable = true)\n",
      " |-- rawPrediction: vector (nullable = true)\n",
      " |-- probability: vector (nullable = true)\n",
      " |-- prediction: double (nullable = false)\n",
      "\n",
      "+---------+----------+\n",
      "|TypeIndex|Prediccion|\n",
      "+---------+----------+\n",
      "|      0.0|       0.0|\n",
      "|      0.0|       0.0|\n",
      "|      0.0|       0.0|\n",
      "|      0.0|       0.0|\n",
      "|      0.0|       0.0|\n",
      "|      0.0|       0.0|\n",
      "|      0.0|       0.0|\n",
      "|      0.0|       3.0|\n",
      "|      0.0|       3.0|\n",
      "|      0.0|       0.0|\n",
      "|      0.0|       0.0|\n",
      "|      0.0|       0.0|\n",
      "|      0.0|       3.0|\n",
      "|      0.0|       3.0|\n",
      "|      0.0|       3.0|\n",
      "|      0.0|       3.0|\n",
      "|      0.0|       0.0|\n",
      "|      0.0|       0.0|\n",
      "|      0.0|       0.0|\n",
      "|      0.0|       0.0|\n",
      "|      0.0|       3.0|\n",
      "|      0.0|       0.0|\n",
      "|      0.0|       0.0|\n",
      "|      0.0|       0.0|\n",
      "|      0.0|       0.0|\n",
      "|      0.0|       0.0|\n",
      "|      0.0|       0.0|\n",
      "|      0.0|       0.0|\n",
      "|      0.0|       0.0|\n",
      "|      0.0|       0.0|\n",
      "+---------+----------+\n",
      "only showing top 30 rows\n",
      "\n",
      "0.9182808716707022\n",
      "Test Error = 0.0817191\n"
     ]
    }
   ],
   "source": [
    "rf = RandomForestClassifier(featuresCol = 'scaled', labelCol = 'TypeIndex')\n",
    "evaluator = MulticlassClassificationEvaluator(\n",
    "    labelCol=\"TypeIndex\", predictionCol=\"prediction\", metricName=\"accuracy\")\n",
    "rfparamGrid = (ParamGridBuilder()\n",
    "               .addGrid(rf.maxDepth, [2, 5, 10])\n",
    "               .addGrid(rf.maxBins, [5, 10, 20])\n",
    "               .addGrid(rf.numTrees, [5, 20, 50])\n",
    "             .build())\n",
    "\n",
    "rfcv = CrossValidator(estimator = rf,\n",
    "                      estimatorParamMaps = rfparamGrid,\n",
    "                      evaluator = evaluator,\n",
    "                      numFolds = 4)\n",
    "\n",
    "rfModel = rfcv.fit(train)\n",
    "\n",
    "predictions = rfModel.transform(testData)\n",
    "accuracy = evaluator.evaluate(predictions)\n",
    "\n",
    "\n",
    "\n",
    "\n",
    "predictions.printSchema()\n",
    "predictions=predictions.withColumnRenamed(\"prediction\",\"Prediccion\")\n",
    "predictions.select(\"TypeIndex\", \"Prediccion\").show(30)\n",
    "predictions=predictions.select(\"Prediccion\")\n",
    "print(accuracy)\n",
    "print(\"Test Error = %g\" % (1.0 - accuracy))\n",
    "\n",
    "predictions_train = rfModel.transform(train)\n",
    "accuracy = evaluator.evaluate(predictions_train)\n",
    "\n",
    "\n",
    "\n",
    "\n",
    "predictions_train.printSchema()\n",
    "predictions_train=predictions_train.withColumnRenamed(\"prediction\",\"Prediccion\")\n",
    "predictions_train.select(\"TypeIndex\", \"Prediccion\").show(30)\n",
    "predictions_train=predictions_train.select(\"Prediccion\")\n",
    "print(accuracy)\n",
    "print(\"Test Error = %g\" % (1.0 - accuracy))"
   ]
  },
  {
   "cell_type": "markdown",
   "metadata": {},
   "source": [
    "Analisis Random Forest \n",
    "Podemos obsservar que tiene un desempeño un poco malo llegando casi al 80% con el test set, utilizando cross-validation. Tambien podemos observar que con el train set tiene un accuracy de 91%, como la diferencia no es tan grande podemos decir que hay un poco de overfitting"
   ]
  },
  {
   "cell_type": "markdown",
   "metadata": {},
   "source": [
    "Decision Tree"
   ]
  },
  {
   "cell_type": "code",
   "execution_count": null,
   "metadata": {},
   "outputs": [
    {
     "name": "stdout",
     "output_type": "stream",
     "text": [
      "CrossValidatorModel_363b2f579cbe\n",
      "root\n",
      " |-- features: vector (nullable = true)\n",
      " |-- TypeIndex: double (nullable = true)\n",
      " |-- scaled: vector (nullable = true)\n",
      " |-- rawPrediction: vector (nullable = true)\n",
      " |-- probability: vector (nullable = true)\n",
      " |-- prediction: double (nullable = false)\n",
      "\n",
      "+---------+----------+\n",
      "|TypeIndex|Prediccion|\n",
      "+---------+----------+\n",
      "|      0.0|       0.0|\n",
      "|      0.0|       3.0|\n",
      "|      0.0|       3.0|\n",
      "|      0.0|       3.0|\n",
      "|      0.0|       0.0|\n",
      "|      0.0|       3.0|\n",
      "|      0.0|       0.0|\n",
      "|      0.0|       0.0|\n",
      "|      0.0|       0.0|\n",
      "|      0.0|       0.0|\n",
      "|      0.0|       1.0|\n",
      "|      0.0|       0.0|\n",
      "|      0.0|       0.0|\n",
      "|      0.0|       0.0|\n",
      "|      0.0|       0.0|\n",
      "|      0.0|       0.0|\n",
      "|      0.0|       0.0|\n",
      "|      0.0|       1.0|\n",
      "|      0.0|       1.0|\n",
      "|      0.0|       1.0|\n",
      "|      0.0|       0.0|\n",
      "|      0.0|       0.0|\n",
      "|      0.0|       0.0|\n",
      "|      0.0|       0.0|\n",
      "|      0.0|       0.0|\n",
      "|      0.0|       0.0|\n",
      "|      0.0|       0.0|\n",
      "|      0.0|       0.0|\n",
      "|      0.0|       0.0|\n",
      "|      0.0|       0.0|\n",
      "+---------+----------+\n",
      "only showing top 30 rows\n",
      "\n",
      "0.7049180327868853\n",
      "Test Error = 0.295082\n",
      "root\n",
      " |-- features: vector (nullable = true)\n",
      " |-- TypeIndex: double (nullable = true)\n",
      " |-- scaled: vector (nullable = true)\n",
      " |-- rawPrediction: vector (nullable = true)\n",
      " |-- probability: vector (nullable = true)\n",
      " |-- prediction: double (nullable = false)\n",
      "\n",
      "+---------+----------+\n",
      "|TypeIndex|Prediccion|\n",
      "+---------+----------+\n",
      "|      0.0|       0.0|\n",
      "|      0.0|       0.0|\n",
      "|      0.0|       0.0|\n",
      "|      0.0|       0.0|\n",
      "|      0.0|       0.0|\n",
      "|      0.0|       0.0|\n",
      "|      0.0|       0.0|\n",
      "|      0.0|       0.0|\n",
      "|      0.0|       0.0|\n",
      "|      0.0|       0.0|\n",
      "|      0.0|       0.0|\n",
      "|      0.0|       0.0|\n",
      "|      0.0|       3.0|\n",
      "|      0.0|       3.0|\n",
      "|      0.0|       3.0|\n",
      "|      0.0|       3.0|\n",
      "|      0.0|       0.0|\n",
      "|      0.0|       0.0|\n",
      "|      0.0|       0.0|\n",
      "|      0.0|       0.0|\n",
      "|      0.0|       3.0|\n",
      "|      0.0|       0.0|\n",
      "|      0.0|       0.0|\n",
      "|      0.0|       0.0|\n",
      "|      0.0|       0.0|\n",
      "|      0.0|       0.0|\n",
      "|      0.0|       0.0|\n",
      "|      0.0|       0.0|\n",
      "|      0.0|       0.0|\n",
      "|      0.0|       0.0|\n",
      "+---------+----------+\n",
      "only showing top 30 rows\n",
      "\n",
      "0.9703389830508474\n",
      "Test Error = 0.029661\n"
     ]
    }
   ],
   "source": [
    "dt = DecisionTreeClassifier(featuresCol = 'scaled', labelCol = 'TypeIndex',  maxDepth=15)\n",
    "dtparamGrid = (ParamGridBuilder()\n",
    "             .addGrid(dt.maxDepth, [2, 5, 10, 20, 30])\n",
    "             .addGrid(dt.maxBins, [10, 20, 40, 80, 100])\n",
    "             .build())\n",
    "evaluator = MulticlassClassificationEvaluator(\n",
    "    labelCol=\"TypeIndex\", predictionCol=\"prediction\", metricName=\"accuracy\")\n",
    "\n",
    "dtcv = CrossValidator(estimator = dt,\n",
    "                      estimatorParamMaps = dtparamGrid,\n",
    "                      evaluator = evaluator,\n",
    "                      numFolds = 5)   \n",
    "dtcvModel = dtcv.fit(train)\n",
    "print(dtcvModel)\n",
    "\n",
    "predictions = dtcvModel.transform(testData)\n",
    "\n",
    "\n",
    "\n",
    "\n",
    "accuracy = evaluator.evaluate(predictions)\n",
    "predictions.printSchema()\n",
    "predictions=predictions.withColumnRenamed(\"prediction\",\"Prediccion\")\n",
    "predictions.select(\"TypeIndex\", \"Prediccion\").show(30)\n",
    "predictions=predictions.select(\"Prediccion\")\n",
    "print(accuracy)\n",
    "print(\"Test Error = %g\" % (1.0 - accuracy))\n",
    "\n",
    "\n",
    "predictions_train = dtcvModel.transform(train)\n",
    "\n",
    "\n",
    "\n",
    "\n",
    "accuracy = evaluator.evaluate(predictions_train)\n",
    "predictions_train.printSchema()\n",
    "predictions_train=predictions_train.withColumnRenamed(\"prediction\",\"Prediccion\")\n",
    "predictions_train.select(\"TypeIndex\", \"Prediccion\").show(30)\n",
    "predictions_train=predictions_train.select(\"Prediccion\")\n",
    "print(accuracy)\n",
    "print(\"Test Error = %g\" % (1.0 - accuracy))"
   ]
  },
  {
   "cell_type": "markdown",
   "metadata": {},
   "source": [
    "Analisis Decision Tree\n",
    "Podemos obsservar que tiene un desempeño un poco pobre utilizando cross-validation. Tambien podemos observar que con el train set tiene un accuracy de 97%, claro indicador de que hay overfitting"
   ]
  }
 ],
 "metadata": {
  "kernelspec": {
   "display_name": "Python 3.8.8 ('base')",
   "language": "python",
   "name": "python3"
  },
  "language_info": {
   "codemirror_mode": {
    "name": "ipython",
    "version": 3
   },
   "file_extension": ".py",
   "mimetype": "text/x-python",
   "name": "python",
   "nbconvert_exporter": "python",
   "pygments_lexer": "ipython3",
   "version": "3.8.8"
  },
  "orig_nbformat": 4,
  "vscode": {
   "interpreter": {
    "hash": "6f5583cf1d9466b5c27e75c89cc6b383bed5736d6b16c51c8074d8690011a952"
   }
  }
 },
 "nbformat": 4,
 "nbformat_minor": 2
}
